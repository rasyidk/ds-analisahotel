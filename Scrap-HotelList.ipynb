{
 "cells": [
  {
   "cell_type": "markdown",
   "metadata": {},
   "source": [
    "## Packages"
   ]
  },
  {
   "cell_type": "code",
   "execution_count": 1,
   "metadata": {},
   "outputs": [],
   "source": [
    "from selenium import webdriver\n",
    "from bs4 import BeautifulSoup\n",
    "from selenium.webdriver.common.keys import Keys\n",
    "\n",
    "import pandas as pd\n",
    "import time\n",
    "import re"
   ]
  },
  {
   "cell_type": "markdown",
   "metadata": {},
   "source": [
    "## Get Html "
   ]
  },
  {
   "cell_type": "code",
   "execution_count": 7,
   "metadata": {},
   "outputs": [],
   "source": [
    "def getter(url):\n",
    "    browser = webdriver.Chrome()\n",
    "    browser.get(url)\n",
    "    time.sleep(1)\n",
    "    browser.refresh()\n",
    "    time.sleep(1)\n",
    "    browser.refresh()\n",
    "    \n",
    "    elem = browser.find_element_by_tag_name(\"body\")\n",
    "    \n",
    "    no_of_pagedowns = 30\n",
    "    while no_of_pagedowns:\n",
    "        elem.send_keys(Keys.PAGE_DOWN)\n",
    "        time.sleep(0.2)\n",
    "        no_of_pagedowns-=1\n",
    "    html = browser.page_source\n",
    "    return html\n",
    "url4 = 'https://www.hotels.com/search.do?resolved-location=CITY%3A659171%3AUNKNOWN%3AUNKNOWN&f-star-rating=4&destination-id=659171&q-destination=Yogyakarta,%20Special%20Region%20of%20Yogyakarta,%20Indonesia&q-check-in=2020-08-01&q-check-out=2020-08-02&q-rooms=1&q-room-0-adults=2&q-room-0-children=0&sort-order=DISTANCE_FROM_LANDMARK&sort-lid=1667134'\n",
    "url5 = 'https://www.hotels.com/search.do?resolved-location=CITY%3A659171%3AUNKNOWN%3AUNKNOWN&f-star-rating=5&destination-id=659171&q-destination=Yogyakarta,%20Special%20Region%20of%20Yogyakarta,%20Indonesia&q-check-in=2020-08-01&q-check-out=2020-08-02&q-rooms=1&q-room-0-adults=2&q-room-0-children=0&sort-order=DISTANCE_FROM_LANDMARK&sort-lid=1667134'\n",
    "url = 'https://www.hotels.com/search.do?resolved-location=CITY%3A659171%3AUNKNOWN%3AUNKNOWN&f-star-rating=5,4&destination-id=659171&q-destination=Yogyakarta,%20Special%20Region%20of%20Yogyakarta,%20Indonesia&q-check-in=2020-08-01&q-check-out=2020-08-02&q-rooms=1&q-room-0-adults=2&q-room-0-children=0&sort-order=DISTANCE_FROM_LANDMARK&sort-lid=1667134'\n",
    "html = getter(url4)"
   ]
  },
  {
   "cell_type": "markdown",
   "metadata": {},
   "source": [
    "## PseudoCode"
   ]
  },
  {
   "cell_type": "code",
   "execution_count": 4,
   "metadata": {},
   "outputs": [
    {
     "data": {
      "text/plain": [
       "\"\\nPseudoCode 1\\n1. untuk setiap card\\n2. coba dapatkan data\\n3. jika data ada tambahkan ke list\\n4. jika kosong tambahkan '0 Reviews'\\nPROBLEM : Menyimpan card kedalam list\\n\\nPseudoCode 2 \\n1. list semua data \\n2. gabungkan list \\n3. ubah ke dataframe\\nPROBLEM : item kosong tidak berada di index yang benar\\n\\nPseudoCode 3\\n1. untuk setiap card\\n2. dapatkan nama hotel append listItem\\n3. dapatkan address append listItem\\n4. dapatkan rate append listItem\\n5. end for\\n6. gabungkan list\\n\""
      ]
     },
     "execution_count": 4,
     "metadata": {},
     "output_type": "execute_result"
    }
   ],
   "source": [
    "\"\"\"\n",
    "PseudoCode 1\n",
    "1. untuk setiap card\n",
    "2. coba dapatkan data\n",
    "3. jika data ada tambahkan ke list\n",
    "4. jika kosong tambahkan '0 Reviews'\n",
    "PROBLEM : Menyimpan card kedalam list\n",
    "\n",
    "PseudoCode 2 \n",
    "1. list semua data \n",
    "2. gabungkan list \n",
    "3. ubah ke dataframe\n",
    "PROBLEM : item kosong tidak berada di index yang benar\n",
    "\n",
    "PseudoCode 3\n",
    "1. untuk setiap card\n",
    "2. dapatkan nama hotel append listItem\n",
    "3. dapatkan address append listItem\n",
    "4. dapatkan rate append listItem\n",
    "5. end for\n",
    "6. gabungkan list\n",
    "\"\"\" "
   ]
  },
  {
   "cell_type": "markdown",
   "metadata": {},
   "source": [
    "## Scrap Data"
   ]
  },
  {
   "cell_type": "code",
   "execution_count": 8,
   "metadata": {},
   "outputs": [],
   "source": [
    "soup = BeautifulSoup(html,'html.parser')\n",
    "itemList = []\n",
    "dfList  = []\n",
    "def getcity():\n",
    "    city = item.find('ul',class_=\"property-landmarks\").get_text()\n",
    "    city = city.split(')', 1)\n",
    "    city = city[1]\n",
    "    city = city.split(' to', 1)\n",
    "    city = city[0]\n",
    "    return city   \n",
    "def getairport():\n",
    "    airport = item.find('ul',class_=\"property-landmarks\").get_text()\n",
    "    airport = airport.split(' to', 1)\n",
    "    airport = airport[0]\n",
    "    return airport"
   ]
  },
  {
   "cell_type": "code",
   "execution_count": 9,
   "metadata": {},
   "outputs": [
    {
     "name": "stdout",
     "output_type": "stream",
     "text": [
      "There is  0  Hotels have No Reviews\n",
      "There is  3  Hotels Fullbooked\n"
     ]
    }
   ],
   "source": [
    "card = soup.find_all('section',class_=\"hotel-wrap\")\n",
    "naRe = 0\n",
    "naPr = 0\n",
    "for item in card:\n",
    "    try:\n",
    "        rate = item.find('strong',class_=\"guest-reviews-badge\").get_text()\n",
    "        name = item.find('a',class_=\"property-name-link\").get_text()\n",
    "        address = item.find('span',class_=\"address\").get_text()\n",
    "        review = item.find('span',class_=\"small-view\").get_text()\n",
    "        review = re.sub(\"\\D\", \"\", review)\n",
    "        airport = getairport()\n",
    "        city = getcity()\n",
    "    except AttributeError:\n",
    "        rate = ''\n",
    "        review = '' \n",
    "        naRe = naRe + 1\n",
    "    try:\n",
    "        price = item.find('ins').get_text()\n",
    "    except:\n",
    "        try:\n",
    "            price = ''\n",
    "            div = item.find('a',class_=\"price-link\")\n",
    "            price = div.find('strong').get_text()\n",
    "        except:\n",
    "            naPr = naPr + 1\n",
    "            \n",
    "    itemList = [name,address,rate,review,airport,city,price]\n",
    "    dfList.append(itemList)\n",
    "\n",
    "print('There is ', naRe ,' Hotels have No Reviews')\n",
    "print('There is ', naPr ,' Hotels Fullbooked')"
   ]
  },
  {
   "cell_type": "code",
   "execution_count": 10,
   "metadata": {},
   "outputs": [
    {
     "data": {
      "text/html": [
       "<div>\n",
       "<style scoped>\n",
       "    .dataframe tbody tr th:only-of-type {\n",
       "        vertical-align: middle;\n",
       "    }\n",
       "\n",
       "    .dataframe tbody tr th {\n",
       "        vertical-align: top;\n",
       "    }\n",
       "\n",
       "    .dataframe thead th {\n",
       "        text-align: right;\n",
       "    }\n",
       "</style>\n",
       "<table border=\"1\" class=\"dataframe\">\n",
       "  <thead>\n",
       "    <tr style=\"text-align: right;\">\n",
       "      <th></th>\n",
       "      <th>Hotel_Name</th>\n",
       "      <th>Address</th>\n",
       "      <th>Rate</th>\n",
       "      <th>Reviews</th>\n",
       "      <th>Airport</th>\n",
       "      <th>City</th>\n",
       "      <th>Starting_Price</th>\n",
       "    </tr>\n",
       "  </thead>\n",
       "  <tbody>\n",
       "    <tr>\n",
       "      <td>0</td>\n",
       "      <td>Platinum Adisucipto Hotel &amp; Conference</td>\n",
       "      <td>Jl. Solo No.28, Yogyakarta, Depok, 55282, Indo...</td>\n",
       "      <td>Fabulous 8.6</td>\n",
       "      <td>41</td>\n",
       "      <td>0.2 km</td>\n",
       "      <td>8.0 km</td>\n",
       "      <td>Rp791.736</td>\n",
       "    </tr>\n",
       "    <tr>\n",
       "      <td>1</td>\n",
       "      <td>Sheraton Mustika Yogyakarta Resort and Spa</td>\n",
       "      <td>JL Laksda Adisucipto KM 8.7, Depok, Yogyakarta...</td>\n",
       "      <td>Very good 8.4</td>\n",
       "      <td>102</td>\n",
       "      <td>1.1 km</td>\n",
       "      <td>7.1 km</td>\n",
       "      <td>Rp600.000</td>\n",
       "    </tr>\n",
       "    <tr>\n",
       "      <td>2</td>\n",
       "      <td>Harper Mangkubumi by ASTON</td>\n",
       "      <td>Jl. Mangkubumi No. 52, Yogyakarta, Yogyakarta,...</td>\n",
       "      <td>Fabulous 8.8</td>\n",
       "      <td>85</td>\n",
       "      <td>7.7 km</td>\n",
       "      <td>1.2 km</td>\n",
       "      <td></td>\n",
       "    </tr>\n",
       "    <tr>\n",
       "      <td>3</td>\n",
       "      <td>GQ Hotel Yogyakarta</td>\n",
       "      <td>Jl Adisucipto No 48, Depok, Yogyakarta, 55281,...</td>\n",
       "      <td>Very good 8.2</td>\n",
       "      <td>10</td>\n",
       "      <td>1.3 km</td>\n",
       "      <td>6.8 km</td>\n",
       "      <td>Rp2.228.979</td>\n",
       "    </tr>\n",
       "    <tr>\n",
       "      <td>4</td>\n",
       "      <td>INNSiDE by Melia Yogyakarta</td>\n",
       "      <td>JL. Ring Road Utara, Maguwoharjo, Depok, Yogya...</td>\n",
       "      <td>Very good 8.0</td>\n",
       "      <td>41</td>\n",
       "      <td>2.2 km</td>\n",
       "      <td>7.9 km</td>\n",
       "      <td>Rp520.000</td>\n",
       "    </tr>\n",
       "  </tbody>\n",
       "</table>\n",
       "</div>"
      ],
      "text/plain": [
       "                                   Hotel_Name  \\\n",
       "0      Platinum Adisucipto Hotel & Conference   \n",
       "1  Sheraton Mustika Yogyakarta Resort and Spa   \n",
       "2                  Harper Mangkubumi by ASTON   \n",
       "3                         GQ Hotel Yogyakarta   \n",
       "4                 INNSiDE by Melia Yogyakarta   \n",
       "\n",
       "                                             Address           Rate Reviews  \\\n",
       "0  Jl. Solo No.28, Yogyakarta, Depok, 55282, Indo...   Fabulous 8.6      41   \n",
       "1  JL Laksda Adisucipto KM 8.7, Depok, Yogyakarta...  Very good 8.4     102   \n",
       "2  Jl. Mangkubumi No. 52, Yogyakarta, Yogyakarta,...   Fabulous 8.8      85   \n",
       "3  Jl Adisucipto No 48, Depok, Yogyakarta, 55281,...  Very good 8.2      10   \n",
       "4  JL. Ring Road Utara, Maguwoharjo, Depok, Yogya...  Very good 8.0      41   \n",
       "\n",
       "  Airport    City Starting_Price  \n",
       "0  0.2 km  8.0 km      Rp791.736  \n",
       "1  1.1 km  7.1 km      Rp600.000  \n",
       "2  7.7 km  1.2 km                 \n",
       "3  1.3 km  6.8 km    Rp2.228.979  \n",
       "4  2.2 km  7.9 km      Rp520.000  "
      ]
     },
     "execution_count": 10,
     "metadata": {},
     "output_type": "execute_result"
    }
   ],
   "source": [
    "df = pd.DataFrame (dfList)\n",
    "df.columns = ['Hotel_Name','Address','Rate','Reviews','Airport','City','Starting_Price']\n",
    "df.head()"
   ]
  },
  {
   "cell_type": "markdown",
   "metadata": {},
   "source": [
    "## Cleaning Data"
   ]
  },
  {
   "cell_type": "code",
   "execution_count": 96,
   "metadata": {},
   "outputs": [
    {
     "data": {
      "text/plain": [
       "Hotel_Name        object\n",
       "Address           object\n",
       "Rate              object\n",
       "Reviews           object\n",
       "Airport           object\n",
       "City              object\n",
       "Starting_Price    object\n",
       "dtype: object"
      ]
     },
     "execution_count": 96,
     "metadata": {},
     "output_type": "execute_result"
    }
   ],
   "source": [
    "### Remove Punctuation\n",
    "# df['Hotel Name'] = df['Hotel Name'].str.replace('[^\\w\\s\\1]','')\n",
    "\n",
    "# df['Rate'] = df['Rate'].astype('str')\n",
    "# df['Rate'] = df['Rate'].str.replace('[','')\n",
    "\n",
    "## Airport Distance\n",
    "#df['Airport'] = df['Airport'].astype('str')\n",
    "# df['Airport'] = df['Airport'].split(' to', 1)\n",
    "# df['Airport'] = df.Airport[0]\n",
    "df.dtypes"
   ]
  },
  {
   "cell_type": "markdown",
   "metadata": {},
   "source": [
    "## Regex "
   ]
  },
  {
   "cell_type": "code",
   "execution_count": 97,
   "metadata": {},
   "outputs": [
    {
     "data": {
      "text/plain": [
       "'8.0 km'"
      ]
     },
     "execution_count": 97,
     "metadata": {},
     "output_type": "execute_result"
    }
   ],
   "source": [
    "## txt = '6.2 km to Yogyakarta (JOG-Adisucipto Intl.)4.7 km to City centre'\n",
    "# txt = txt.split(' to', 1)\n",
    "# txt = txt[0]\n",
    "# txt\n",
    "\n",
    "# div = soup.find('a',class_=\"price-link\")\n",
    "# price = div.find('strong').get_text()\n",
    "# price\n",
    "\n",
    "city = soup.find('ul',class_=\"property-landmarks\").get_text()\n",
    "city = city.split(')', 1)\n",
    "city = city[1]\n",
    "city = city.split(' to', 1)\n",
    "city = city[0]\n",
    "city"
   ]
  },
  {
   "cell_type": "markdown",
   "metadata": {},
   "source": [
    "## Export to CSV"
   ]
  },
  {
   "cell_type": "code",
   "execution_count": 12,
   "metadata": {},
   "outputs": [],
   "source": [
    "# Export\n",
    "df.to_csv(r'Hotel-List-4Star.csv', index = False)"
   ]
  }
 ],
 "metadata": {
  "kernelspec": {
   "display_name": "Python 3",
   "language": "python",
   "name": "python3"
  },
  "language_info": {
   "codemirror_mode": {
    "name": "ipython",
    "version": 3
   },
   "file_extension": ".py",
   "mimetype": "text/x-python",
   "name": "python",
   "nbconvert_exporter": "python",
   "pygments_lexer": "ipython3",
   "version": "3.7.4"
  }
 },
 "nbformat": 4,
 "nbformat_minor": 2
}
