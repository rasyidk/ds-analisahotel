{
 "cells": [
  {
   "cell_type": "code",
   "execution_count": 1,
   "metadata": {},
   "outputs": [],
   "source": [
    "import urllib.request as urllib2\n",
    "from bs4 import BeautifulSoup\n",
    "import requests\n",
    "import pandas as pd\n",
    "from wordcloud import WordCloud, STOPWORDS\n",
    "import matplotlib.pyplot as plt"
   ]
  },
  {
   "cell_type": "code",
   "execution_count": 2,
   "metadata": {},
   "outputs": [],
   "source": [
    "url = \"https://www.hotels.com/ho406297-tr-p1/?q-rooms=1&q-room-0-adults=2&SYE=3&ZSX=0&applyEmbargo=true&reviewTab=brand-reviews\""
   ]
  },
  {
   "cell_type": "code",
   "execution_count": 3,
   "metadata": {},
   "outputs": [],
   "source": [
    "page = requests.get(url)\n",
    "soup = BeautifulSoup(page.content, 'html.parser')\n",
    "num = soup.find('span', class_='number-of-reviews')\n",
    "\n",
    "namehotel_elems = soup.find('div', class_='vcard')\n",
    "namehotel=namehotel_elems.find('h1').text.strip()\n",
    "cc =num.text.strip()"
   ]
  },
  {
   "cell_type": "code",
   "execution_count": 4,
   "metadata": {},
   "outputs": [
    {
     "name": "stdout",
     "output_type": "stream",
     "text": [
      "[53]\n"
     ]
    }
   ],
   "source": [
    "a = []\n",
    "for word in cc.split():\n",
    "    try:\n",
    "        a.append(int(word))\n",
    "    except ValueError:\n",
    "        pass\n",
    " \n",
    "print(a)\n",
    "pagesz = a[0]"
   ]
  },
  {
   "cell_type": "code",
   "execution_count": 5,
   "metadata": {},
   "outputs": [
    {
     "name": "stdout",
     "output_type": "stream",
     "text": [
      "2\n"
     ]
    }
   ],
   "source": [
    "pageforloop = int(pagesz/50+1)\n",
    "print(pageforloop)"
   ]
  },
  {
   "cell_type": "code",
   "execution_count": 6,
   "metadata": {},
   "outputs": [],
   "source": [
    "xx =[]\n",
    "image_elems_array = []\n",
    "comment_elems_array =[]\n",
    "ratingbadge_elems_array =[]\n",
    "ratingscore_elems_array =[]\n",
    "checkin_elems_array =[]\n",
    "triptypenights_elems_array = []\n",
    "\n",
    "\n",
    "for x in range(pageforloop):\n",
    "    pages = x + 1\n",
    "    urlpg = \"https://www.hotels.com/ho406297-tr-p\"+ str(pages) +\"/?q-rooms=1&q-room-0-adults=2&SYE=3&ZSX=0&applyEmbargo=true&reviewTab=brand-reviews\"\n",
    "    pagex = requests.get(urlpg)\n",
    "    soup = BeautifulSoup(pagex.content, 'html.parser')\n",
    "    \n",
    "    \n",
    "    \n",
    "    #flag\n",
    "    image_elems = soup.find_all('div', class_='meta')\n",
    "    for i in image_elems:\n",
    "        link = i.find('img')['src']\n",
    "        rawflag  = str(link).replace('https://a.cdn-hotels.com/uswest2/da/assets/s/63.0.10257/images/common/flags/','')\n",
    "        flag = rawflag.replace('.png','')\n",
    "        image_elems_array.append(str(flag))\n",
    "    \n",
    "    #comment\n",
    "    comment_elems = soup.find_all('blockquote', class_='expandable-content description')\n",
    "    for i in comment_elems:\n",
    "        comment_elems_array.append(i.text.strip())\n",
    "    \n",
    "    #rating-badge\n",
    "    ratingbadge_elems = soup.find_all('span', class_='rating-badge')\n",
    "    for i in ratingbadge_elems:\n",
    "         ratingbadge_elems_array.append(i.text.strip())\n",
    "    \n",
    "#     #rating-score\n",
    "#     ratingscore_elems = soup.find_all('span', class_='rating-score')\n",
    "#     for i in ratingscore_elems:\n",
    "#          ratingscore_elems_array.append(i.text.strip())\n",
    "            \n",
    "    #rating-score\n",
    "    ratingscore_elems = soup.find_all('span', class_='rating-score')\n",
    "    for i in range(len(ratingscore_elems) - 1):\n",
    "         ratingscore_elems_array.append(ratingscore_elems[i].text.strip())\n",
    "    \n",
    "    #checkin\n",
    "    checkin_elems = soup.find_all('span', class_='date')\n",
    "    for i in checkin_elems:\n",
    "        rawdate = i.text.strip()\n",
    "        date = str(rawdate).replace('Check-in ','')\n",
    "        checkin_elems_array.append(date)\n",
    "        \n",
    "    #typenights    \n",
    "    triptypenights_elems = soup.find_all('span', class_='trip-type-nights')\n",
    "    for i in triptypenights_elems:\n",
    "         triptypenights_elems_array.append(i.text.strip())"
   ]
  },
  {
   "cell_type": "code",
   "execution_count": 7,
   "metadata": {},
   "outputs": [],
   "source": [
    "i = 0\n",
    "while i < len(image_elems_array):\n",
    "    xx.append([])\n",
    "    xx[i].append(image_elems_array[i])\n",
    "    xx[i].append(comment_elems_array[i])\n",
    "    xx[i].append(ratingbadge_elems_array[i])\n",
    "    xx[i].append(ratingscore_elems_array[i])\n",
    "    xx[i].append(checkin_elems_array[i])\n",
    "    xx[i].append(triptypenights_elems_array[i])\n",
    "    i+=1"
   ]
  },
  {
   "cell_type": "code",
   "execution_count": 8,
   "metadata": {},
   "outputs": [],
   "source": [
    "newdf = pd.DataFrame(xx, columns=['country','comments','ratingbadge','ratingscore','checkin','typetripnights'])\n",
    "newdf\n",
    "newdf.to_csv(r\"hotelcsv5star/\"+ namehotel +\".csv\")"
   ]
  }
 ],
 "metadata": {
  "kernelspec": {
   "display_name": "Python 3",
   "language": "python",
   "name": "python3"
  },
  "language_info": {
   "codemirror_mode": {
    "name": "ipython",
    "version": 3
   },
   "file_extension": ".py",
   "mimetype": "text/x-python",
   "name": "python",
   "nbconvert_exporter": "python",
   "pygments_lexer": "ipython3",
   "version": "3.7.4"
  }
 },
 "nbformat": 4,
 "nbformat_minor": 2
}
