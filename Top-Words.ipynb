{
 "cells": [
  {
   "cell_type": "markdown",
   "metadata": {},
   "source": [
    "## Import Library"
   ]
  },
  {
   "cell_type": "code",
   "execution_count": 58,
   "metadata": {},
   "outputs": [],
   "source": [
    "import collections\n",
    "import pandas as pd\n",
    "import matplotlib.patches as mpatches\n",
    "import matplotlib.pyplot as plt\n",
    "from textblob import TextBlob\n",
    "import string\n",
    "import numpy as np\n",
    "from langdetect import detect\n",
    "%matplotlib inline"
   ]
  },
  {
   "cell_type": "markdown",
   "metadata": {},
   "source": [
    "## Cleaning data"
   ]
  },
  {
   "cell_type": "code",
   "execution_count": 60,
   "metadata": {},
   "outputs": [],
   "source": [
    "\"\"\"\n",
    "Hotel Tentrem\n",
    "Grand Aston Yogyakarta\n",
    "Melia Purosani Hotel\n",
    "The Phoenix Hotel Yogyakarta - MGallery Collection\n",
    "Yogyakarta Marriott Hotel\n",
    "\"\"\"\n",
    "df = pd.read_csv('dataset/4star/novotel.csv',encoding='latin-1')\n",
    "df = df.filter(items=['comments'])\n",
    "df = df.dropna(subset=['comments'])\n",
    "comments = df['comments'].tolist()"
   ]
  },
  {
   "cell_type": "code",
   "execution_count": 61,
   "metadata": {},
   "outputs": [
    {
     "data": {
      "text/plain": [
       "50"
      ]
     },
     "execution_count": 61,
     "metadata": {},
     "output_type": "execute_result"
    }
   ],
   "source": [
    "lang = []\n",
    "for text in comments:\n",
    "    try:\n",
    "        x = detect(str(text))\n",
    "        lang.append(x)\n",
    "    except:\n",
    "        lang.append('null')\n",
    "len(lang)"
   ]
  },
  {
   "cell_type": "code",
   "execution_count": 62,
   "metadata": {},
   "outputs": [],
   "source": [
    "cleancomments = []\n",
    "for i in comments:\n",
    "    hasil =i.translate(str.maketrans('', '', string.punctuation))\n",
    "    cleancomments.append(hasil.lower())\n",
    "    \n",
    "newdf = pd.DataFrame(cleancomments,columns=['comments'])\n",
    "newdf['languange'] = lang\n",
    "newdf = newdf[(newdf.languange == 'en') | (newdf.languange == 'id')]\n",
    "newdf.to_csv(r'dataset/wordcloud-b4-novotel.csv', index = False)\n",
    "comments = newdf['comments'].values\n",
    "text = str(comments)"
   ]
  },
  {
   "cell_type": "code",
   "execution_count": 40,
   "metadata": {},
   "outputs": [],
   "source": [
    "# dfen = newdf.loc[newdf['languange'] == 'en']\n",
    "# dfen\n",
    "# cmnid = []\n",
    "# dfid = newdf.loc[newdf['languange'] == 'id']\n",
    "# listid = dfid['comments'].tolist()\n",
    "# for cmn in listid:\n",
    "#     textcmnt = TextBlob(cmn)\n",
    "#     analysis = textcmnt.translate(from_lang ='id', to = 'en')\n",
    "#     cmnid.append(analysis)\n",
    "# dfid = pd.DataFrame(cmnid)\n",
    "# type(textcmnt)"
   ]
  },
  {
   "cell_type": "markdown",
   "metadata": {},
   "source": [
    "## Clean Stopwords"
   ]
  },
  {
   "cell_type": "code",
   "execution_count": 41,
   "metadata": {},
   "outputs": [],
   "source": [
    "# Stopwords\n",
    "stopwords = set(line.strip() for line in open('stopwords.txt'))\n",
    "stopwords = stopwords.union(set(['mr','mrs','one','two','said', 'hotel']))\n",
    "wordcount = {}\n",
    "for word in text.lower().split():\n",
    "    if word not in stopwords:\n",
    "        if word not in wordcount:\n",
    "            wordcount[word] = 1\n",
    "        else:\n",
    "            wordcount[word] += 1\n",
    "\n",
    "word_counter = collections.Counter(wordcount)"
   ]
  },
  {
   "cell_type": "markdown",
   "metadata": {},
   "source": [
    "## Word Sentiment Classification"
   ]
  },
  {
   "cell_type": "code",
   "execution_count": 50,
   "metadata": {},
   "outputs": [
    {
     "name": "stdout",
     "output_type": "stream",
     "text": [
      "443\n",
      "57\n",
      "21\n"
     ]
    }
   ],
   "source": [
    "# print(len(wordcount))\n",
    "dfWordcount = pd.DataFrame.from_dict(wordcount, orient='index',columns=['count'])\n",
    "# wordcount\n",
    "wordpos = []\n",
    "wordneg = []\n",
    "wordnet = []\n",
    "for key, val in wordcount.items():\n",
    "    analysis = TextBlob(key)\n",
    "    if analysis.sentiment.polarity > 0:\n",
    "        pos = [key,val]\n",
    "        wordpos.append(pos)\n",
    "    elif analysis.sentiment.polarity < 0:\n",
    "        neg = [key,val]\n",
    "        wordneg.append(neg)\n",
    "    else:\n",
    "        net = [key,val]\n",
    "        wordnet.append(net)\n",
    "dfWordcount = pd.DataFrame()\n",
    "print(len(wordnet))\n",
    "print(len(wordpos))\n",
    "print(len(wordneg))"
   ]
  },
  {
   "cell_type": "markdown",
   "metadata": {},
   "source": [
    "## Dataframe Classification"
   ]
  },
  {
   "cell_type": "code",
   "execution_count": 51,
   "metadata": {},
   "outputs": [
    {
     "data": {
      "text/html": [
       "<div>\n",
       "<style scoped>\n",
       "    .dataframe tbody tr th:only-of-type {\n",
       "        vertical-align: middle;\n",
       "    }\n",
       "\n",
       "    .dataframe tbody tr th {\n",
       "        vertical-align: top;\n",
       "    }\n",
       "\n",
       "    .dataframe thead th {\n",
       "        text-align: right;\n",
       "    }\n",
       "</style>\n",
       "<table border=\"1\" class=\"dataframe\">\n",
       "  <thead>\n",
       "    <tr style=\"text-align: right;\">\n",
       "      <th></th>\n",
       "      <th>word</th>\n",
       "      <th>count</th>\n",
       "    </tr>\n",
       "  </thead>\n",
       "  <tbody>\n",
       "    <tr>\n",
       "      <td>116</td>\n",
       "      <td>staff</td>\n",
       "      <td>15</td>\n",
       "    </tr>\n",
       "    <tr>\n",
       "      <td>1</td>\n",
       "      <td>breakfast</td>\n",
       "      <td>12</td>\n",
       "    </tr>\n",
       "    <tr>\n",
       "      <td>114</td>\n",
       "      <td>'</td>\n",
       "      <td>11</td>\n",
       "    </tr>\n",
       "    <tr>\n",
       "      <td>159</td>\n",
       "      <td>location</td>\n",
       "      <td>8</td>\n",
       "    </tr>\n",
       "    <tr>\n",
       "      <td>153</td>\n",
       "      <td>bed</td>\n",
       "      <td>8</td>\n",
       "    </tr>\n",
       "    <tr>\n",
       "      <td>...</td>\n",
       "      <td>...</td>\n",
       "      <td>...</td>\n",
       "    </tr>\n",
       "    <tr>\n",
       "      <td>169</td>\n",
       "      <td>gel</td>\n",
       "      <td>1</td>\n",
       "    </tr>\n",
       "    <tr>\n",
       "      <td>168</td>\n",
       "      <td>properly</td>\n",
       "      <td>1</td>\n",
       "    </tr>\n",
       "    <tr>\n",
       "      <td>164</td>\n",
       "      <td>shops</td>\n",
       "      <td>1</td>\n",
       "    </tr>\n",
       "    <tr>\n",
       "      <td>163</td>\n",
       "      <td>closer</td>\n",
       "      <td>1</td>\n",
       "    </tr>\n",
       "    <tr>\n",
       "      <td>442</td>\n",
       "      <td>saltless'</td>\n",
       "      <td>1</td>\n",
       "    </tr>\n",
       "  </tbody>\n",
       "</table>\n",
       "<p>443 rows × 2 columns</p>\n",
       "</div>"
      ],
      "text/plain": [
       "          word  count\n",
       "116      staff     15\n",
       "1    breakfast     12\n",
       "114          '     11\n",
       "159   location      8\n",
       "153        bed      8\n",
       "..         ...    ...\n",
       "169        gel      1\n",
       "168   properly      1\n",
       "164      shops      1\n",
       "163     closer      1\n",
       "442  saltless'      1\n",
       "\n",
       "[443 rows x 2 columns]"
      ]
     },
     "execution_count": 51,
     "metadata": {},
     "output_type": "execute_result"
    }
   ],
   "source": [
    "dfNet = pd.DataFrame (wordnet)\n",
    "dfNet.columns = ['word','count']\n",
    "dfNet = dfNet.sort_values(['count'], ascending=False)\n",
    "# dfNet\n",
    "dfPos = pd.DataFrame (wordpos)\n",
    "dfPos.columns = ['word','count']\n",
    "dfPos = dfPos.sort_values(['count'], ascending=False)\n",
    "# dfPos\n",
    "dfNeg = pd.DataFrame (wordneg)\n",
    "dfNeg.columns = ['word','count']\n",
    "dfNeg = dfNeg.sort_values(['count'], ascending=False)\n",
    "dfNet"
   ]
  },
  {
   "cell_type": "markdown",
   "metadata": {},
   "source": [
    "## Cleaning Dataframe"
   ]
  },
  {
   "cell_type": "code",
   "execution_count": 52,
   "metadata": {},
   "outputs": [
    {
     "data": {
      "text/html": [
       "<div>\n",
       "<style scoped>\n",
       "    .dataframe tbody tr th:only-of-type {\n",
       "        vertical-align: middle;\n",
       "    }\n",
       "\n",
       "    .dataframe tbody tr th {\n",
       "        vertical-align: top;\n",
       "    }\n",
       "\n",
       "    .dataframe thead th {\n",
       "        text-align: right;\n",
       "    }\n",
       "</style>\n",
       "<table border=\"1\" class=\"dataframe\">\n",
       "  <thead>\n",
       "    <tr style=\"text-align: right;\">\n",
       "      <th></th>\n",
       "      <th>word</th>\n",
       "      <th>count</th>\n",
       "    </tr>\n",
       "  </thead>\n",
       "  <tbody>\n",
       "    <tr>\n",
       "      <td>116</td>\n",
       "      <td>staff</td>\n",
       "      <td>15</td>\n",
       "    </tr>\n",
       "    <tr>\n",
       "      <td>1</td>\n",
       "      <td>breakfast</td>\n",
       "      <td>12</td>\n",
       "    </tr>\n",
       "    <tr>\n",
       "      <td>114</td>\n",
       "      <td></td>\n",
       "      <td>11</td>\n",
       "    </tr>\n",
       "    <tr>\n",
       "      <td>159</td>\n",
       "      <td>location</td>\n",
       "      <td>8</td>\n",
       "    </tr>\n",
       "    <tr>\n",
       "      <td>153</td>\n",
       "      <td>bed</td>\n",
       "      <td>8</td>\n",
       "    </tr>\n",
       "    <tr>\n",
       "      <td>...</td>\n",
       "      <td>...</td>\n",
       "      <td>...</td>\n",
       "    </tr>\n",
       "    <tr>\n",
       "      <td>169</td>\n",
       "      <td>gel</td>\n",
       "      <td>1</td>\n",
       "    </tr>\n",
       "    <tr>\n",
       "      <td>168</td>\n",
       "      <td>properly</td>\n",
       "      <td>1</td>\n",
       "    </tr>\n",
       "    <tr>\n",
       "      <td>164</td>\n",
       "      <td>shops</td>\n",
       "      <td>1</td>\n",
       "    </tr>\n",
       "    <tr>\n",
       "      <td>163</td>\n",
       "      <td>closer</td>\n",
       "      <td>1</td>\n",
       "    </tr>\n",
       "    <tr>\n",
       "      <td>442</td>\n",
       "      <td>saltless</td>\n",
       "      <td>1</td>\n",
       "    </tr>\n",
       "  </tbody>\n",
       "</table>\n",
       "<p>443 rows × 2 columns</p>\n",
       "</div>"
      ],
      "text/plain": [
       "          word  count\n",
       "116      staff     15\n",
       "1    breakfast     12\n",
       "114                11\n",
       "159   location      8\n",
       "153        bed      8\n",
       "..         ...    ...\n",
       "169        gel      1\n",
       "168   properly      1\n",
       "164      shops      1\n",
       "163     closer      1\n",
       "442   saltless      1\n",
       "\n",
       "[443 rows x 2 columns]"
      ]
     },
     "execution_count": 52,
     "metadata": {},
     "output_type": "execute_result"
    }
   ],
   "source": [
    "dfNet['word'].replace('', np.nan, inplace=True)\n",
    "dfNet = dfNet.dropna(subset = ['word'])\n",
    "for char in string.punctuation:\n",
    "        dfNet['word'] = dfNet['word'].str.replace(char, '')\n",
    "dfNet.to_csv(r'dataset/wordcount-neutral-hotel-tentrem.csv', index = False)\n",
    "# dfNet\n",
    "dfPos['word'].replace('', np.nan, inplace=True)\n",
    "dfPos = dfPos.dropna(subset = ['word'])\n",
    "for char in string.punctuation:\n",
    "        dfPos['word'] = dfPos['word'].str.replace(char, '')\n",
    "dfPos.to_csv(r'dataset/wordcount-positive-hotel-tentrem.csv', index = False)\n",
    "# dfNet\n",
    "dfNeg['word'].replace('', np.nan, inplace=True)\n",
    "dfNeg = dfNeg.dropna(subset = ['word'])\n",
    "for char in string.punctuation:\n",
    "        dfNeg['word'] = dfNeg['word'].str.replace(char, '')\n",
    "dfNeg.to_csv(r'dataset/wordcount-negative-hotel-tentrem.csv', index = False)\n",
    "dfNet"
   ]
  },
  {
   "cell_type": "code",
   "execution_count": 53,
   "metadata": {},
   "outputs": [
    {
     "name": "stderr",
     "output_type": "stream",
     "text": [
      "C:\\ProgramData\\Anaconda3\\lib\\site-packages\\ipykernel_launcher.py:4: SettingWithCopyWarning: \n",
      "A value is trying to be set on a copy of a slice from a DataFrame.\n",
      "Try using .loc[row_indexer,col_indexer] = value instead\n",
      "\n",
      "See the caveats in the documentation: http://pandas.pydata.org/pandas-docs/stable/user_guide/indexing.html#returning-a-view-versus-a-copy\n",
      "  after removing the cwd from sys.path.\n"
     ]
    },
    {
     "data": {
      "text/html": [
       "<div>\n",
       "<style scoped>\n",
       "    .dataframe tbody tr th:only-of-type {\n",
       "        vertical-align: middle;\n",
       "    }\n",
       "\n",
       "    .dataframe tbody tr th {\n",
       "        vertical-align: top;\n",
       "    }\n",
       "\n",
       "    .dataframe thead th {\n",
       "        text-align: right;\n",
       "    }\n",
       "</style>\n",
       "<table border=\"1\" class=\"dataframe\">\n",
       "  <thead>\n",
       "    <tr style=\"text-align: right;\">\n",
       "      <th></th>\n",
       "      <th>word</th>\n",
       "      <th>count</th>\n",
       "    </tr>\n",
       "  </thead>\n",
       "  <tbody>\n",
       "    <tr>\n",
       "      <td>116</td>\n",
       "      <td>staff</td>\n",
       "      <td>15</td>\n",
       "    </tr>\n",
       "    <tr>\n",
       "      <td>1</td>\n",
       "      <td>breakfast</td>\n",
       "      <td>12</td>\n",
       "    </tr>\n",
       "    <tr>\n",
       "      <td>159</td>\n",
       "      <td>location</td>\n",
       "      <td>8</td>\n",
       "    </tr>\n",
       "    <tr>\n",
       "      <td>153</td>\n",
       "      <td>bed</td>\n",
       "      <td>8</td>\n",
       "    </tr>\n",
       "    <tr>\n",
       "      <td>36</td>\n",
       "      <td>check</td>\n",
       "      <td>7</td>\n",
       "    </tr>\n",
       "    <tr>\n",
       "      <td>...</td>\n",
       "      <td>...</td>\n",
       "      <td>...</td>\n",
       "    </tr>\n",
       "    <tr>\n",
       "      <td>169</td>\n",
       "      <td>gel</td>\n",
       "      <td>1</td>\n",
       "    </tr>\n",
       "    <tr>\n",
       "      <td>168</td>\n",
       "      <td>properly</td>\n",
       "      <td>1</td>\n",
       "    </tr>\n",
       "    <tr>\n",
       "      <td>164</td>\n",
       "      <td>shops</td>\n",
       "      <td>1</td>\n",
       "    </tr>\n",
       "    <tr>\n",
       "      <td>163</td>\n",
       "      <td>closer</td>\n",
       "      <td>1</td>\n",
       "    </tr>\n",
       "    <tr>\n",
       "      <td>442</td>\n",
       "      <td>saltless</td>\n",
       "      <td>1</td>\n",
       "    </tr>\n",
       "  </tbody>\n",
       "</table>\n",
       "<p>442 rows × 2 columns</p>\n",
       "</div>"
      ],
      "text/plain": [
       "          word  count\n",
       "116      staff     15\n",
       "1    breakfast     12\n",
       "159   location      8\n",
       "153        bed      8\n",
       "36       check      7\n",
       "..         ...    ...\n",
       "169        gel      1\n",
       "168   properly      1\n",
       "164      shops      1\n",
       "163     closer      1\n",
       "442   saltless      1\n",
       "\n",
       "[442 rows x 2 columns]"
      ]
     },
     "execution_count": 53,
     "metadata": {},
     "output_type": "execute_result"
    }
   ],
   "source": [
    "dfNet['word'].replace('', np.nan, inplace=True)\n",
    "dfNet = dfNet.dropna(subset = ['word'])\n",
    "for char in string.punctuation:\n",
    "        dfNet['word'] = dfNet['word'].str.replace(char, '')\n",
    "dfNet.to_csv(r'dataset/wordcount-neutral-hotel-tentrem.csv', index = False)\n",
    "dfNet"
   ]
  },
  {
   "cell_type": "markdown",
   "metadata": {},
   "source": [
    "## Visualization"
   ]
  },
  {
   "cell_type": "code",
   "execution_count": 55,
   "metadata": {},
   "outputs": [
    {
     "name": "stdout",
     "output_type": "stream",
     "text": [
      "Top Words Visualization\n"
     ]
    },
    {
     "data": {
      "image/png": "[encoded data removed]",
      "text/plain": [
       "<Figure size 576x396 with 1 Axes>"
      ]
     },
     "metadata": {},
     "output_type": "display_data"
    },
    {
     "name": "stdout",
     "output_type": "stream",
     "text": [
      "Positive Words Visualization\n"
     ]
    },
    {
     "data": {
      "image/png": "[encoded data removed]",
      "text/plain": [
       "<Figure size 576x396 with 1 Axes>"
      ]
     },
     "metadata": {},
     "output_type": "display_data"
    },
    {
     "name": "stdout",
     "output_type": "stream",
     "text": [
      "Negative Words Visualization\n"
     ]
    },
    {
     "data": {
      "image/png": "[encoded data removed]",
      "text/plain": [
       "<Figure size 576x396 with 1 Axes>"
      ]
     },
     "metadata": {},
     "output_type": "display_data"
    }
   ],
   "source": [
    "print('Top Words Visualization')\n",
    "netPlot = dfNet[0:5]\n",
    "topNet = netPlot.plot(x='word',y='count', kind='barh', color ='#4fc0e8').invert_yaxis()\n",
    "plt.style.use('seaborn')\n",
    "plt.title('Novotel Yogyakarta')\n",
    "neutral = mpatches.Patch(color='#4fc0e8', label='Neutral Word')\n",
    "plt.legend(handles=[neutral])\n",
    "plt.ylabel('Neutral Words')\n",
    "plt.savefig(\"plot/Novotel Yogyakarta-Neutral.png\")\n",
    "plt.show()\n",
    "\n",
    "print('Positive Words Visualization')\n",
    "posPlot = dfPos[0:5]\n",
    "topPos = posPlot.plot(x='word',y='count', kind='barh', color ='#27ae60').invert_yaxis()\n",
    "plt.style.use('seaborn')\n",
    "plt.title('Novotel Yogyakarta')\n",
    "positive = mpatches.Patch(color='#27ae60', label='Positive Word')\n",
    "plt.legend(handles=[positive])\n",
    "plt.ylabel('Positve Words')\n",
    "plt.savefig(\"plot/Novotel Yogyakarta-Positive.png\")\n",
    "plt.show()\n",
    "\n",
    "print('Negative Words Visualization')\n",
    "negPlot = dfNeg[0:5]\n",
    "topNeg = negPlot.plot(x='word',y='count', kind='barh', color ='#eb5463').invert_yaxis()\n",
    "plt.style.use('seaborn')\n",
    "plt.title('Novotel Yogyakarta')\n",
    "negative = mpatches.Patch(color='#eb5463', label='Negative Word')\n",
    "plt.legend(handles=[negative])\n",
    "plt.ylabel('Negative Words')\n",
    "plt.savefig(\"plot/Novotel Yogyakarta-Negative.png\")\n",
    "plt.show()\n"
   ]
  }
 ],
 "metadata": {
  "kernelspec": {
   "display_name": "Python 3",
   "language": "python",
   "name": "python3"
  },
  "language_info": {
   "codemirror_mode": {
    "name": "ipython",
    "version": 3
   },
   "file_extension": ".py",
   "mimetype": "text/x-python",
   "name": "python",
   "nbconvert_exporter": "python",
   "pygments_lexer": "ipython3",
   "version": "3.7.4"
  }
 },
 "nbformat": 4,
 "nbformat_minor": 2
}
