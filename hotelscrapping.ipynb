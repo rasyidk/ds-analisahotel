{
 "cells": [
  {
   "cell_type": "code",
   "execution_count": 2,
   "metadata": {},
   "outputs": [],
   "source": [
    "import urllib.request as urllib2\n",
    "from bs4 import BeautifulSoup\n",
    "import requests\n",
    "import pandas as pd\n",
    "from wordcloud import WordCloud, STOPWORDS\n",
    "import matplotlib.pyplot as plt"
   ]
  },
  {
   "cell_type": "code",
   "execution_count": 81,
   "metadata": {},
   "outputs": [],
   "source": [
    "url=\"https://www.hotels.com/ho171684-tr-p1/?reviewTab=brand-reviews\""
   ]
  },
  {
   "cell_type": "code",
   "execution_count": null,
   "metadata": {},
   "outputs": [],
   "source": [
    "page = requests.get(url)\n",
    "soup = BeautifulSoup(page.content, 'html.parser')\n",
    "job_elems = soup.find_all('blockquote', class_='expandable-content description')\n",
    "\n",
    "xx = []\n",
    "\n",
    "for i in job_elems:\n",
    "    print(i.text.strip())\n",
    "    xx.append(i.text.strip())"
   ]
  },
  {
   "cell_type": "code",
   "execution_count": null,
   "metadata": {},
   "outputs": [],
   "source": [
    "print(len(xx))"
   ]
  },
  {
   "cell_type": "code",
   "execution_count": 73,
   "metadata": {},
   "outputs": [],
   "source": [
    "df3 = pd.DataFrame(xx,columns=['comment'])"
   ]
  },
  {
   "cell_type": "code",
   "execution_count": 64,
   "metadata": {},
   "outputs": [
    {
     "data": {
      "text/html": [
       "<div>\n",
       "<style scoped>\n",
       "    .dataframe tbody tr th:only-of-type {\n",
       "        vertical-align: middle;\n",
       "    }\n",
       "\n",
       "    .dataframe tbody tr th {\n",
       "        vertical-align: top;\n",
       "    }\n",
       "\n",
       "    .dataframe thead th {\n",
       "        text-align: right;\n",
       "    }\n",
       "</style>\n",
       "<table border=\"1\" class=\"dataframe\">\n",
       "  <thead>\n",
       "    <tr style=\"text-align: right;\">\n",
       "      <th></th>\n",
       "      <th>comment</th>\n",
       "    </tr>\n",
       "  </thead>\n",
       "  <tbody>\n",
       "    <tr>\n",
       "      <td>0</td>\n",
       "      <td>Pengalaman memginap yang memgesankan. Staff ho...</td>\n",
       "    </tr>\n",
       "    <tr>\n",
       "      <td>1</td>\n",
       "      <td>Semuanya baik.</td>\n",
       "    </tr>\n",
       "    <tr>\n",
       "      <td>2</td>\n",
       "      <td>Menyenangkan</td>\n",
       "    </tr>\n",
       "    <tr>\n",
       "      <td>3</td>\n",
       "      <td>Good view and near marlioboro,\\nGood facility ...</td>\n",
       "    </tr>\n",
       "    <tr>\n",
       "      <td>4</td>\n",
       "      <td>Hotel melia yang semakin berseri setelah menga...</td>\n",
       "    </tr>\n",
       "    <tr>\n",
       "      <td>5</td>\n",
       "      <td>Lokasi strategis</td>\n",
       "    </tr>\n",
       "    <tr>\n",
       "      <td>6</td>\n",
       "      <td>I love the lobby and the brrakfast</td>\n",
       "    </tr>\n",
       "    <tr>\n",
       "      <td>7</td>\n",
       "      <td>The room and the property was really nice. Foo...</td>\n",
       "    </tr>\n",
       "    <tr>\n",
       "      <td>8</td>\n",
       "      <td>superb hotel... superb service... very big and...</td>\n",
       "    </tr>\n",
       "    <tr>\n",
       "      <td>9</td>\n",
       "      <td>Excellent breakfast, very friendly staff, grea...</td>\n",
       "    </tr>\n",
       "    <tr>\n",
       "      <td>10</td>\n",
       "      <td>Very clean room and nice view of the garden. E...</td>\n",
       "    </tr>\n",
       "    <tr>\n",
       "      <td>11</td>\n",
       "      <td>Good hotel in central Yogyakarta</td>\n",
       "    </tr>\n",
       "    <tr>\n",
       "      <td>12</td>\n",
       "      <td>Great location. Lovely hotel all around very w...</td>\n",
       "    </tr>\n",
       "    <tr>\n",
       "      <td>13</td>\n",
       "      <td>Very good and relaxing time at the hotel. The ...</td>\n",
       "    </tr>\n",
       "    <tr>\n",
       "      <td>14</td>\n",
       "      <td>So so</td>\n",
       "    </tr>\n",
       "    <tr>\n",
       "      <td>15</td>\n",
       "      <td>about Hotel\\nThe GOOD:\\n   The room was clean ...</td>\n",
       "    </tr>\n",
       "    <tr>\n",
       "      <td>16</td>\n",
       "      <td>Hotel feels old, with some room furniture clea...</td>\n",
       "    </tr>\n",
       "    <tr>\n",
       "      <td>17</td>\n",
       "      <td>Perfect hotel!! Clean, modern, few restaurants...</td>\n",
       "    </tr>\n",
       "    <tr>\n",
       "      <td>18</td>\n",
       "      <td>Staffs are very friendly and helpful, smiling ...</td>\n",
       "    </tr>\n",
       "    <tr>\n",
       "      <td>19</td>\n",
       "      <td>The room was big and clean with modern renovat...</td>\n",
       "    </tr>\n",
       "    <tr>\n",
       "      <td>20</td>\n",
       "      <td>WIFI network was poor. No connection was given...</td>\n",
       "    </tr>\n",
       "    <tr>\n",
       "      <td>21</td>\n",
       "      <td></td>\n",
       "    </tr>\n",
       "    <tr>\n",
       "      <td>22</td>\n",
       "      <td>Nice and relaxing place</td>\n",
       "    </tr>\n",
       "    <tr>\n",
       "      <td>23</td>\n",
       "      <td>Lovely hotel , great stay. All the hotel ameni...</td>\n",
       "    </tr>\n",
       "    <tr>\n",
       "      <td>24</td>\n",
       "      <td>Kamar yang baru direnovasi, staff yang ramah, ...</td>\n",
       "    </tr>\n",
       "    <tr>\n",
       "      <td>25</td>\n",
       "      <td>Everything about the hotel is great. Services,...</td>\n",
       "    </tr>\n",
       "    <tr>\n",
       "      <td>26</td>\n",
       "      <td>Near from central\\nAverage for breakfast\\nAlre...</td>\n",
       "    </tr>\n",
       "    <tr>\n",
       "      <td>27</td>\n",
       "      <td>Very comfortable, stylish and friendly propert...</td>\n",
       "    </tr>\n",
       "    <tr>\n",
       "      <td>28</td>\n",
       "      <td>I love the place but the room are infected wit...</td>\n",
       "    </tr>\n",
       "    <tr>\n",
       "      <td>29</td>\n",
       "      <td>Nice hotel  , good breakfast , overall very go...</td>\n",
       "    </tr>\n",
       "    <tr>\n",
       "      <td>30</td>\n",
       "      <td>Hotel clean and pleasant, food was just OK, bu...</td>\n",
       "    </tr>\n",
       "    <tr>\n",
       "      <td>31</td>\n",
       "      <td>Everything is perfect at this hotel. Great loc...</td>\n",
       "    </tr>\n",
       "    <tr>\n",
       "      <td>32</td>\n",
       "      <td>Hotel is amazing! City view of Mount Merapi. H...</td>\n",
       "    </tr>\n",
       "    <tr>\n",
       "      <td>33</td>\n",
       "      <td>Temple visits, city based</td>\n",
       "    </tr>\n",
       "    <tr>\n",
       "      <td>34</td>\n",
       "      <td>Good location if you are interested in shoppin...</td>\n",
       "    </tr>\n",
       "    <tr>\n",
       "      <td>35</td>\n",
       "      <td>Had cockroach in the room the first night. Aga...</td>\n",
       "    </tr>\n",
       "    <tr>\n",
       "      <td>36</td>\n",
       "      <td>Great concept, and great staff to match made t...</td>\n",
       "    </tr>\n",
       "    <tr>\n",
       "      <td>37</td>\n",
       "      <td>The hotel and room is Clean, with good service...</td>\n",
       "    </tr>\n",
       "    <tr>\n",
       "      <td>38</td>\n",
       "      <td>Staff were great. The stores next door were ve...</td>\n",
       "    </tr>\n",
       "    <tr>\n",
       "      <td>39</td>\n",
       "      <td>Everything was goood and extremely well mainta...</td>\n",
       "    </tr>\n",
       "    <tr>\n",
       "      <td>40</td>\n",
       "      <td>Helpful staff, pleasant grounds with gardens, ...</td>\n",
       "    </tr>\n",
       "    <tr>\n",
       "      <td>41</td>\n",
       "      <td>Nice hotel close to malioboro street</td>\n",
       "    </tr>\n",
       "    <tr>\n",
       "      <td>42</td>\n",
       "      <td>Very accommodating staff. Wonderful place. You...</td>\n",
       "    </tr>\n",
       "    <tr>\n",
       "      <td>43</td>\n",
       "      <td>Wonderful hotel that was situated close to Bor...</td>\n",
       "    </tr>\n",
       "    <tr>\n",
       "      <td>44</td>\n",
       "      <td>Surprisingly after 2 hours being in the room, ...</td>\n",
       "    </tr>\n",
       "    <tr>\n",
       "      <td>45</td>\n",
       "      <td>The reception was warm and welcoming. The staf...</td>\n",
       "    </tr>\n",
       "    <tr>\n",
       "      <td>46</td>\n",
       "      <td>Only complaint was the A/C in my room would on...</td>\n",
       "    </tr>\n",
       "    <tr>\n",
       "      <td>47</td>\n",
       "      <td>A friendly hotel with caring attentive staff. ...</td>\n",
       "    </tr>\n",
       "    <tr>\n",
       "      <td>48</td>\n",
       "      <td>Very convenient location within short walking ...</td>\n",
       "    </tr>\n",
       "    <tr>\n",
       "      <td>49</td>\n",
       "      <td>We had a very plesant stay at the hotel. The h...</td>\n",
       "    </tr>\n",
       "  </tbody>\n",
       "</table>\n",
       "</div>"
      ],
      "text/plain": [
       "                                              comment\n",
       "0   Pengalaman memginap yang memgesankan. Staff ho...\n",
       "1                                      Semuanya baik.\n",
       "2                                        Menyenangkan\n",
       "3   Good view and near marlioboro,\\nGood facility ...\n",
       "4   Hotel melia yang semakin berseri setelah menga...\n",
       "5                                    Lokasi strategis\n",
       "6                  I love the lobby and the brrakfast\n",
       "7   The room and the property was really nice. Foo...\n",
       "8   superb hotel... superb service... very big and...\n",
       "9   Excellent breakfast, very friendly staff, grea...\n",
       "10  Very clean room and nice view of the garden. E...\n",
       "11                   Good hotel in central Yogyakarta\n",
       "12  Great location. Lovely hotel all around very w...\n",
       "13  Very good and relaxing time at the hotel. The ...\n",
       "14                                              So so\n",
       "15  about Hotel\\nThe GOOD:\\n   The room was clean ...\n",
       "16  Hotel feels old, with some room furniture clea...\n",
       "17  Perfect hotel!! Clean, modern, few restaurants...\n",
       "18  Staffs are very friendly and helpful, smiling ...\n",
       "19  The room was big and clean with modern renovat...\n",
       "20  WIFI network was poor. No connection was given...\n",
       "21                                                   \n",
       "22                            Nice and relaxing place\n",
       "23  Lovely hotel , great stay. All the hotel ameni...\n",
       "24  Kamar yang baru direnovasi, staff yang ramah, ...\n",
       "25  Everything about the hotel is great. Services,...\n",
       "26  Near from central\\nAverage for breakfast\\nAlre...\n",
       "27  Very comfortable, stylish and friendly propert...\n",
       "28  I love the place but the room are infected wit...\n",
       "29  Nice hotel  , good breakfast , overall very go...\n",
       "30  Hotel clean and pleasant, food was just OK, bu...\n",
       "31  Everything is perfect at this hotel. Great loc...\n",
       "32  Hotel is amazing! City view of Mount Merapi. H...\n",
       "33                          Temple visits, city based\n",
       "34  Good location if you are interested in shoppin...\n",
       "35  Had cockroach in the room the first night. Aga...\n",
       "36  Great concept, and great staff to match made t...\n",
       "37  The hotel and room is Clean, with good service...\n",
       "38  Staff were great. The stores next door were ve...\n",
       "39  Everything was goood and extremely well mainta...\n",
       "40  Helpful staff, pleasant grounds with gardens, ...\n",
       "41               Nice hotel close to malioboro street\n",
       "42  Very accommodating staff. Wonderful place. You...\n",
       "43  Wonderful hotel that was situated close to Bor...\n",
       "44  Surprisingly after 2 hours being in the room, ...\n",
       "45  The reception was warm and welcoming. The staf...\n",
       "46  Only complaint was the A/C in my room would on...\n",
       "47  A friendly hotel with caring attentive staff. ...\n",
       "48  Very convenient location within short walking ...\n",
       "49  We had a very plesant stay at the hotel. The h..."
      ]
     },
     "execution_count": 64,
     "metadata": {},
     "output_type": "execute_result"
    }
   ],
   "source": [
    "pd.DataFrame(xx,columns=['comment'])"
   ]
  },
  {
   "cell_type": "code",
   "execution_count": 71,
   "metadata": {},
   "outputs": [
    {
     "data": {
      "text/plain": [
       "comment    50\n",
       "dtype: int64"
      ]
     },
     "execution_count": 71,
     "metadata": {},
     "output_type": "execute_result"
    }
   ],
   "source": [
    "df.count()"
   ]
  },
  {
   "cell_type": "code",
   "execution_count": 78,
   "metadata": {},
   "outputs": [],
   "source": [
    "df = df.append(df3)"
   ]
  },
  {
   "cell_type": "code",
   "execution_count": 80,
   "metadata": {},
   "outputs": [
    {
     "data": {
      "text/html": [
       "<div>\n",
       "<style scoped>\n",
       "    .dataframe tbody tr th:only-of-type {\n",
       "        vertical-align: middle;\n",
       "    }\n",
       "\n",
       "    .dataframe tbody tr th {\n",
       "        vertical-align: top;\n",
       "    }\n",
       "\n",
       "    .dataframe thead th {\n",
       "        text-align: right;\n",
       "    }\n",
       "</style>\n",
       "<table border=\"1\" class=\"dataframe\">\n",
       "  <thead>\n",
       "    <tr style=\"text-align: right;\">\n",
       "      <th></th>\n",
       "      <th>comment</th>\n",
       "    </tr>\n",
       "  </thead>\n",
       "  <tbody>\n",
       "    <tr>\n",
       "      <td>0</td>\n",
       "      <td>Pengalaman memginap yang memgesankan. Staff ho...</td>\n",
       "    </tr>\n",
       "    <tr>\n",
       "      <td>1</td>\n",
       "      <td>Semuanya baik.</td>\n",
       "    </tr>\n",
       "    <tr>\n",
       "      <td>2</td>\n",
       "      <td>Menyenangkan</td>\n",
       "    </tr>\n",
       "    <tr>\n",
       "      <td>3</td>\n",
       "      <td>Good view and near marlioboro,\\nGood facility ...</td>\n",
       "    </tr>\n",
       "    <tr>\n",
       "      <td>4</td>\n",
       "      <td>Hotel melia yang semakin berseri setelah menga...</td>\n",
       "    </tr>\n",
       "    <tr>\n",
       "      <td>...</td>\n",
       "      <td>...</td>\n",
       "    </tr>\n",
       "    <tr>\n",
       "      <td>45</td>\n",
       "      <td>The reception was warm and welcoming. The staf...</td>\n",
       "    </tr>\n",
       "    <tr>\n",
       "      <td>46</td>\n",
       "      <td>Only complaint was the A/C in my room would on...</td>\n",
       "    </tr>\n",
       "    <tr>\n",
       "      <td>47</td>\n",
       "      <td>A friendly hotel with caring attentive staff. ...</td>\n",
       "    </tr>\n",
       "    <tr>\n",
       "      <td>48</td>\n",
       "      <td>Very convenient location within short walking ...</td>\n",
       "    </tr>\n",
       "    <tr>\n",
       "      <td>49</td>\n",
       "      <td>We had a very plesant stay at the hotel. The h...</td>\n",
       "    </tr>\n",
       "  </tbody>\n",
       "</table>\n",
       "<p>100 rows × 1 columns</p>\n",
       "</div>"
      ],
      "text/plain": [
       "                                              comment\n",
       "0   Pengalaman memginap yang memgesankan. Staff ho...\n",
       "1                                      Semuanya baik.\n",
       "2                                        Menyenangkan\n",
       "3   Good view and near marlioboro,\\nGood facility ...\n",
       "4   Hotel melia yang semakin berseri setelah menga...\n",
       "..                                                ...\n",
       "45  The reception was warm and welcoming. The staf...\n",
       "46  Only complaint was the A/C in my room would on...\n",
       "47  A friendly hotel with caring attentive staff. ...\n",
       "48  Very convenient location within short walking ...\n",
       "49  We had a very plesant stay at the hotel. The h...\n",
       "\n",
       "[100 rows x 1 columns]"
      ]
     },
     "execution_count": 80,
     "metadata": {},
     "output_type": "execute_result"
    }
   ],
   "source": [
    "df.count()\n"
   ]
  },
  {
   "cell_type": "code",
   "execution_count": 93,
   "metadata": {},
   "outputs": [
    {
     "name": "stdout",
     "output_type": "stream",
     "text": [
      "2\n"
     ]
    }
   ],
   "source": [
    "print(int(108/50))"
   ]
  },
  {
   "cell_type": "code",
   "execution_count": 3,
   "metadata": {},
   "outputs": [],
   "source": [
    "url = \"https://www.hotels.com/ho171684-tr-p1/?reviewTab=brand-reviews\"\n",
    "page = requests.get(url)\n",
    "soup = BeautifulSoup(page.content, 'html.parser')\n",
    "num = soup.find('span', class_='number-of-reviews')\n",
    "\n"
   ]
  },
  {
   "cell_type": "code",
   "execution_count": 4,
   "metadata": {},
   "outputs": [],
   "source": [
    "cc =num.text.strip()"
   ]
  },
  {
   "cell_type": "code",
   "execution_count": 6,
   "metadata": {},
   "outputs": [
    {
     "name": "stdout",
     "output_type": "stream",
     "text": [
      "[221]\n"
     ]
    }
   ],
   "source": [
    "a = []\n",
    "for word in cc.split():\n",
    "    try:\n",
    "        a.append(int(word))\n",
    "    except ValueError:\n",
    "        pass\n",
    " \n",
    "print(a)\n",
    "pagesz = a[0]"
   ]
  },
  {
   "cell_type": "code",
   "execution_count": 7,
   "metadata": {},
   "outputs": [
    {
     "name": "stdout",
     "output_type": "stream",
     "text": [
      "5\n"
     ]
    }
   ],
   "source": [
    "pageforloop = int(pagesz/50+1)\n",
    "print(pageforloop)"
   ]
  },
  {
   "cell_type": "code",
   "execution_count": 32,
   "metadata": {},
   "outputs": [
    {
     "name": "stdout",
     "output_type": "stream",
     "text": [
      "pageeee1\n",
      "pageeee2\n",
      "pageeee3\n",
      "pageeee4\n",
      "pageeee5\n",
      "['https://a.cdn-hotels.com/uswest2/da/assets/s/63.0.10257/images/common/flags/id.png', 'https://a.cdn-hotels.com/uswest2/da/assets/s/63.0.10257/images/common/flags/id.png', 'https://a.cdn-hotels.com/uswest2/da/assets/s/63.0.10257/images/common/flags/id.png', 'https://a.cdn-hotels.com/uswest2/da/assets/s/63.0.10257/images/common/flags/id.png', 'https://a.cdn-hotels.com/uswest2/da/assets/s/63.0.10257/images/common/flags/id.png', 'https://a.cdn-hotels.com/uswest2/da/assets/s/63.0.10257/images/common/flags/id.png', 'https://a.cdn-hotels.com/uswest2/da/assets/s/63.0.10257/images/common/flags/gb.png', 'https://a.cdn-hotels.com/uswest2/da/assets/s/63.0.10257/images/common/flags/us.png', 'https://a.cdn-hotels.com/uswest2/da/assets/s/63.0.10257/images/common/flags/my.png', 'https://a.cdn-hotels.com/uswest2/da/assets/s/63.0.10257/images/common/flags/us.png', 'https://a.cdn-hotels.com/uswest2/da/assets/s/63.0.10257/images/common/flags/us.png', 'https://a.cdn-hotels.com/uswest2/da/assets/s/63.0.10257/images/common/flags/my.png', 'https://a.cdn-hotels.com/uswest2/da/assets/s/63.0.10257/images/common/flags/us.png', 'https://a.cdn-hotels.com/uswest2/da/assets/s/63.0.10257/images/common/flags/us.png', 'https://a.cdn-hotels.com/uswest2/da/assets/s/63.0.10257/images/common/flags/th.png', 'https://a.cdn-hotels.com/uswest2/da/assets/s/63.0.10257/images/common/flags/us.png', 'https://a.cdn-hotels.com/uswest2/da/assets/s/63.0.10257/images/common/flags/sg.png', 'https://a.cdn-hotels.com/uswest2/da/assets/s/63.0.10257/images/common/flags/us.png', 'https://a.cdn-hotels.com/uswest2/da/assets/s/63.0.10257/images/common/flags/us.png', 'https://a.cdn-hotels.com/uswest2/da/assets/s/63.0.10257/images/common/flags/sg.png', 'https://a.cdn-hotels.com/uswest2/da/assets/s/63.0.10257/images/common/flags/sg.png', 'https://a.cdn-hotels.com/uswest2/da/assets/s/63.0.10257/images/common/flags/us.png', 'https://a.cdn-hotels.com/uswest2/da/assets/s/63.0.10257/images/common/flags/us.png', 'https://a.cdn-hotels.com/uswest2/da/assets/s/63.0.10257/images/common/flags/au.png', 'https://a.cdn-hotels.com/uswest2/da/assets/s/63.0.10257/images/common/flags/gb.png', 'https://a.cdn-hotels.com/uswest2/da/assets/s/63.0.10257/images/common/flags/sg.png', 'https://a.cdn-hotels.com/uswest2/da/assets/s/63.0.10257/images/common/flags/gb.png', 'https://a.cdn-hotels.com/uswest2/da/assets/s/63.0.10257/images/common/flags/au.png', 'https://a.cdn-hotels.com/uswest2/da/assets/s/63.0.10257/images/common/flags/sg.png', 'https://a.cdn-hotels.com/uswest2/da/assets/s/63.0.10257/images/common/flags/my.png', 'https://a.cdn-hotels.com/uswest2/da/assets/s/63.0.10257/images/common/flags/gb.png', 'https://a.cdn-hotels.com/uswest2/da/assets/s/63.0.10257/images/common/flags/au.png', 'https://a.cdn-hotels.com/uswest2/da/assets/s/63.0.10257/images/common/flags/sg.png', 'https://a.cdn-hotels.com/uswest2/da/assets/s/63.0.10257/images/common/flags/gb.png', 'https://a.cdn-hotels.com/uswest2/da/assets/s/63.0.10257/images/common/flags/sg.png', 'https://a.cdn-hotels.com/uswest2/da/assets/s/63.0.10257/images/common/flags/hk.png', 'https://a.cdn-hotels.com/uswest2/da/assets/s/63.0.10257/images/common/flags/au.png', 'https://a.cdn-hotels.com/uswest2/da/assets/s/63.0.10257/images/common/flags/sg.png', 'https://a.cdn-hotels.com/uswest2/da/assets/s/63.0.10257/images/common/flags/ca.png', 'https://a.cdn-hotels.com/uswest2/da/assets/s/63.0.10257/images/common/flags/sg.png', 'https://a.cdn-hotels.com/uswest2/da/assets/s/63.0.10257/images/common/flags/us.png', 'https://a.cdn-hotels.com/uswest2/da/assets/s/63.0.10257/images/common/flags/my.png', 'https://a.cdn-hotels.com/uswest2/da/assets/s/63.0.10257/images/common/flags/gb.png', 'https://a.cdn-hotels.com/uswest2/da/assets/s/63.0.10257/images/common/flags/gb.png', 'https://a.cdn-hotels.com/uswest2/da/assets/s/63.0.10257/images/common/flags/my.png', 'https://a.cdn-hotels.com/uswest2/da/assets/s/63.0.10257/images/common/flags/gb.png', 'https://a.cdn-hotels.com/uswest2/da/assets/s/63.0.10257/images/common/flags/gb.png', 'https://a.cdn-hotels.com/uswest2/da/assets/s/63.0.10257/images/common/flags/my.png', 'https://a.cdn-hotels.com/uswest2/da/assets/s/63.0.10257/images/common/flags/ca.png', 'https://a.cdn-hotels.com/uswest2/da/assets/s/63.0.10257/images/common/flags/id.png', 'https://a.cdn-hotels.com/uswest2/da/assets/s/63.0.10257/images/common/flags/gb.png', 'https://a.cdn-hotels.com/uswest2/da/assets/s/63.0.10257/images/common/flags/gb.png', 'https://a.cdn-hotels.com/uswest2/da/assets/s/63.0.10257/images/common/flags/id.png', 'https://a.cdn-hotels.com/uswest2/da/assets/s/63.0.10257/images/common/flags/sg.png', 'https://a.cdn-hotels.com/uswest2/da/assets/s/63.0.10257/images/common/flags/us.png', 'https://a.cdn-hotels.com/uswest2/da/assets/s/63.0.10257/images/common/flags/us.png', 'https://a.cdn-hotels.com/uswest2/da/assets/s/63.0.10257/images/common/flags/us.png', 'https://a.cdn-hotels.com/uswest2/da/assets/s/63.0.10257/images/common/flags/us.png', 'https://a.cdn-hotels.com/uswest2/da/assets/s/63.0.10257/images/common/flags/us.png', 'https://a.cdn-hotels.com/uswest2/da/assets/s/63.0.10257/images/common/flags/sg.png', 'https://a.cdn-hotels.com/uswest2/da/assets/s/63.0.10257/images/common/flags/us.png', 'https://a.cdn-hotels.com/uswest2/da/assets/s/63.0.10257/images/common/flags/sg.png', 'https://a.cdn-hotels.com/uswest2/da/assets/s/63.0.10257/images/common/flags/us.png', 'https://a.cdn-hotels.com/uswest2/da/assets/s/63.0.10257/images/common/flags/ie.png', 'https://a.cdn-hotels.com/uswest2/da/assets/s/63.0.10257/images/common/flags/gb.png', 'https://a.cdn-hotels.com/uswest2/da/assets/s/63.0.10257/images/common/flags/as.png', 'https://a.cdn-hotels.com/uswest2/da/assets/s/63.0.10257/images/common/flags/gb.png', 'https://a.cdn-hotels.com/uswest2/da/assets/s/63.0.10257/images/common/flags/sg.png', 'https://a.cdn-hotels.com/uswest2/da/assets/s/63.0.10257/images/common/flags/us.png', 'https://a.cdn-hotels.com/uswest2/da/assets/s/63.0.10257/images/common/flags/sg.png', 'https://a.cdn-hotels.com/uswest2/da/assets/s/63.0.10257/images/common/flags/hk.png', 'https://a.cdn-hotels.com/uswest2/da/assets/s/63.0.10257/images/common/flags/sg.png', 'https://a.cdn-hotels.com/uswest2/da/assets/s/63.0.10257/images/common/flags/ca.png', 'https://a.cdn-hotels.com/uswest2/da/assets/s/63.0.10257/images/common/flags/us.png', 'https://a.cdn-hotels.com/uswest2/da/assets/s/63.0.10257/images/common/flags/as.png', 'https://a.cdn-hotels.com/uswest2/da/assets/s/63.0.10257/images/common/flags/us.png', 'https://a.cdn-hotels.com/uswest2/da/assets/s/63.0.10257/images/common/flags/sg.png', 'https://a.cdn-hotels.com/uswest2/da/assets/s/63.0.10257/images/common/flags/jp.png', 'https://a.cdn-hotels.com/uswest2/da/assets/s/63.0.10257/images/common/flags/ch.png', 'https://a.cdn-hotels.com/uswest2/da/assets/s/63.0.10257/images/common/flags/kr.png', 'https://a.cdn-hotels.com/uswest2/da/assets/s/63.0.10257/images/common/flags/kr.png', 'https://a.cdn-hotels.com/uswest2/da/assets/s/63.0.10257/images/common/flags/fr.png', 'https://a.cdn-hotels.com/uswest2/da/assets/s/63.0.10257/images/common/flags/kr.png', 'https://a.cdn-hotels.com/uswest2/da/assets/s/63.0.10257/images/common/flags/jp.png', 'https://a.cdn-hotels.com/uswest2/da/assets/s/63.0.10257/images/common/flags/kr.png', 'https://a.cdn-hotels.com/uswest2/da/assets/s/63.0.10257/images/common/flags/jp.png', 'https://a.cdn-hotels.com/uswest2/da/assets/s/63.0.10257/images/common/flags/jp.png', 'https://a.cdn-hotels.com/uswest2/da/assets/s/63.0.10257/images/common/flags/jp.png', 'https://a.cdn-hotels.com/uswest2/da/assets/s/63.0.10257/images/common/flags/fr.png', 'https://a.cdn-hotels.com/uswest2/da/assets/s/63.0.10257/images/common/flags/jp.png', 'https://a.cdn-hotels.com/uswest2/da/assets/s/63.0.10257/images/common/flags/jp.png', 'https://a.cdn-hotels.com/uswest2/da/assets/s/63.0.10257/images/common/flags/kr.png', 'https://a.cdn-hotels.com/uswest2/da/assets/s/63.0.10257/images/common/flags/jp.png', 'https://a.cdn-hotels.com/uswest2/da/assets/s/63.0.10257/images/common/flags/jp.png', 'https://a.cdn-hotels.com/uswest2/da/assets/s/63.0.10257/images/common/flags/pt.png', 'https://a.cdn-hotels.com/uswest2/da/assets/s/63.0.10257/images/common/flags/jp.png', 'https://a.cdn-hotels.com/uswest2/da/assets/s/63.0.10257/images/common/flags/tw.png', 'https://a.cdn-hotels.com/uswest2/da/assets/s/63.0.10257/images/common/flags/mx.png', 'https://a.cdn-hotels.com/uswest2/da/assets/s/63.0.10257/images/common/flags/jp.png', 'https://a.cdn-hotels.com/uswest2/da/assets/s/63.0.10257/images/common/flags/nl.png', 'https://a.cdn-hotels.com/uswest2/da/assets/s/63.0.10257/images/common/flags/jp.png', 'https://a.cdn-hotels.com/uswest2/da/assets/s/63.0.10257/images/common/flags/kr.png', 'https://a.cdn-hotels.com/uswest2/da/assets/s/63.0.10257/images/common/flags/jp.png', 'https://a.cdn-hotels.com/uswest2/da/assets/s/63.0.10257/images/common/flags/fr.png', 'https://a.cdn-hotels.com/uswest2/da/assets/s/63.0.10257/images/common/flags/jp.png', 'https://a.cdn-hotels.com/uswest2/da/assets/s/63.0.10257/images/common/flags/jp.png', 'https://a.cdn-hotels.com/uswest2/da/assets/s/63.0.10257/images/common/flags/jp.png', 'https://a.cdn-hotels.com/uswest2/da/assets/s/63.0.10257/images/common/flags/mx.png', 'https://a.cdn-hotels.com/uswest2/da/assets/s/63.0.10257/images/common/flags/no.png', 'https://a.cdn-hotels.com/uswest2/da/assets/s/63.0.10257/images/common/flags/jp.png', 'https://a.cdn-hotels.com/uswest2/da/assets/s/63.0.10257/images/common/flags/fr.png', 'https://a.cdn-hotels.com/uswest2/da/assets/s/63.0.10257/images/common/flags/br.png', 'https://a.cdn-hotels.com/uswest2/da/assets/s/63.0.10257/images/common/flags/no.png', 'https://a.cdn-hotels.com/uswest2/da/assets/s/63.0.10257/images/common/flags/nl.png', 'https://a.cdn-hotels.com/uswest2/da/assets/s/63.0.10257/images/common/flags/se.png', 'https://a.cdn-hotels.com/uswest2/da/assets/s/63.0.10257/images/common/flags/jp.png', 'https://a.cdn-hotels.com/uswest2/da/assets/s/63.0.10257/images/common/flags/jp.png', 'https://a.cdn-hotels.com/uswest2/da/assets/s/63.0.10257/images/common/flags/jp.png', 'https://a.cdn-hotels.com/uswest2/da/assets/s/63.0.10257/images/common/flags/jp.png', 'https://a.cdn-hotels.com/uswest2/da/assets/s/63.0.10257/images/common/flags/es.png', 'https://a.cdn-hotels.com/uswest2/da/assets/s/63.0.10257/images/common/flags/es.png', 'https://a.cdn-hotels.com/uswest2/da/assets/s/63.0.10257/images/common/flags/es.png', 'https://a.cdn-hotels.com/uswest2/da/assets/s/63.0.10257/images/common/flags/jp.png', 'https://a.cdn-hotels.com/uswest2/da/assets/s/63.0.10257/images/common/flags/jp.png', 'https://a.cdn-hotels.com/uswest2/da/assets/s/63.0.10257/images/common/flags/jp.png', 'https://a.cdn-hotels.com/uswest2/da/assets/s/63.0.10257/images/common/flags/jp.png', 'https://a.cdn-hotels.com/uswest2/da/assets/s/63.0.10257/images/common/flags/es.png', 'https://a.cdn-hotels.com/uswest2/da/assets/s/63.0.10257/images/common/flags/fr.png', 'https://a.cdn-hotels.com/uswest2/da/assets/s/63.0.10257/images/common/flags/es.png', 'https://a.cdn-hotels.com/uswest2/da/assets/s/63.0.10257/images/common/flags/jp.png', 'https://a.cdn-hotels.com/uswest2/da/assets/s/63.0.10257/images/common/flags/hu.png', 'https://a.cdn-hotels.com/uswest2/da/assets/s/63.0.10257/images/common/flags/kr.png', 'https://a.cdn-hotels.com/uswest2/da/assets/s/63.0.10257/images/common/flags/jp.png', 'https://a.cdn-hotels.com/uswest2/da/assets/s/63.0.10257/images/common/flags/kr.png', 'https://a.cdn-hotels.com/uswest2/da/assets/s/63.0.10257/images/common/flags/nl.png', 'https://a.cdn-hotels.com/uswest2/da/assets/s/63.0.10257/images/common/flags/nl.png', 'https://a.cdn-hotels.com/uswest2/da/assets/s/63.0.10257/images/common/flags/se.png', 'https://a.cdn-hotels.com/uswest2/da/assets/s/63.0.10257/images/common/flags/fr.png', 'https://a.cdn-hotels.com/uswest2/da/assets/s/63.0.10257/images/common/flags/jp.png', 'https://a.cdn-hotels.com/uswest2/da/assets/s/63.0.10257/images/common/flags/mx.png', 'https://a.cdn-hotels.com/uswest2/da/assets/s/63.0.10257/images/common/flags/fr.png', 'https://a.cdn-hotels.com/uswest2/da/assets/s/63.0.10257/images/common/flags/pl.png', 'https://a.cdn-hotels.com/uswest2/da/assets/s/63.0.10257/images/common/flags/jp.png', 'https://a.cdn-hotels.com/uswest2/da/assets/s/63.0.10257/images/common/flags/jp.png', 'https://a.cdn-hotels.com/uswest2/da/assets/s/63.0.10257/images/common/flags/fr.png', 'https://a.cdn-hotels.com/uswest2/da/assets/s/63.0.10257/images/common/flags/jp.png', 'https://a.cdn-hotels.com/uswest2/da/assets/s/63.0.10257/images/common/flags/kr.png', 'https://a.cdn-hotels.com/uswest2/da/assets/s/63.0.10257/images/common/flags/pt.png', 'https://a.cdn-hotels.com/uswest2/da/assets/s/63.0.10257/images/common/flags/mx.png', 'https://a.cdn-hotels.com/uswest2/da/assets/s/63.0.10257/images/common/flags/tw.png', 'https://a.cdn-hotels.com/uswest2/da/assets/s/63.0.10257/images/common/flags/de.png', 'https://a.cdn-hotels.com/uswest2/da/assets/s/63.0.10257/images/common/flags/be.png', 'https://a.cdn-hotels.com/uswest2/da/assets/s/63.0.10257/images/common/flags/pt.png', 'https://a.cdn-hotels.com/uswest2/da/assets/s/63.0.10257/images/common/flags/kr.png', 'https://a.cdn-hotels.com/uswest2/da/assets/s/63.0.10257/images/common/flags/jp.png', 'https://a.cdn-hotels.com/uswest2/da/assets/s/63.0.10257/images/common/flags/jp.png', 'https://a.cdn-hotels.com/uswest2/da/assets/s/63.0.10257/images/common/flags/jp.png', 'https://a.cdn-hotels.com/uswest2/da/assets/s/63.0.10257/images/common/flags/tw.png', 'https://a.cdn-hotels.com/uswest2/da/assets/s/63.0.10257/images/common/flags/jp.png', 'https://a.cdn-hotels.com/uswest2/da/assets/s/63.0.10257/images/common/flags/kr.png', 'https://a.cdn-hotels.com/uswest2/da/assets/s/63.0.10257/images/common/flags/kr.png', 'https://a.cdn-hotels.com/uswest2/da/assets/s/63.0.10257/images/common/flags/jp.png', 'https://a.cdn-hotels.com/uswest2/da/assets/s/63.0.10257/images/common/flags/jp.png', 'https://a.cdn-hotels.com/uswest2/da/assets/s/63.0.10257/images/common/flags/jp.png', 'https://a.cdn-hotels.com/uswest2/da/assets/s/63.0.10257/images/common/flags/kr.png', 'https://a.cdn-hotels.com/uswest2/da/assets/s/63.0.10257/images/common/flags/au.png', 'https://a.cdn-hotels.com/uswest2/da/assets/s/63.0.10257/images/common/flags/us.png', 'https://a.cdn-hotels.com/uswest2/da/assets/s/63.0.10257/images/common/flags/jp.png', 'https://a.cdn-hotels.com/uswest2/da/assets/s/63.0.10257/images/common/flags/jp.png', 'https://a.cdn-hotels.com/uswest2/da/assets/s/63.0.10257/images/common/flags/jp.png', 'https://a.cdn-hotels.com/uswest2/da/assets/s/63.0.10257/images/common/flags/id.png', 'https://a.cdn-hotels.com/uswest2/da/assets/s/63.0.10257/images/common/flags/us.png', 'https://a.cdn-hotels.com/uswest2/da/assets/s/63.0.10257/images/common/flags/sg.png', 'https://a.cdn-hotels.com/uswest2/da/assets/s/63.0.10257/images/common/flags/jp.png', 'https://a.cdn-hotels.com/uswest2/da/assets/s/63.0.10257/images/common/flags/us.png', 'https://a.cdn-hotels.com/uswest2/da/assets/s/63.0.10257/images/common/flags/gb.png', 'https://a.cdn-hotels.com/uswest2/da/assets/s/63.0.10257/images/common/flags/sg.png', 'https://a.cdn-hotels.com/uswest2/da/assets/s/63.0.10257/images/common/flags/tw.png', 'https://a.cdn-hotels.com/uswest2/da/assets/s/63.0.10257/images/common/flags/sg.png', 'https://a.cdn-hotels.com/uswest2/da/assets/s/63.0.10257/images/common/flags/hk.png', 'https://a.cdn-hotels.com/uswest2/da/assets/s/63.0.10257/images/common/flags/hk.png', 'https://a.cdn-hotels.com/uswest2/da/assets/s/63.0.10257/images/common/flags/us.png', 'https://a.cdn-hotels.com/uswest2/da/assets/s/63.0.10257/images/common/flags/ch.png', 'https://a.cdn-hotels.com/uswest2/da/assets/s/63.0.10257/images/common/flags/hk.png', 'https://a.cdn-hotels.com/uswest2/da/assets/s/63.0.10257/images/common/flags/jp.png', 'https://a.cdn-hotels.com/uswest2/da/assets/s/63.0.10257/images/common/flags/jp.png', 'https://a.cdn-hotels.com/uswest2/da/assets/s/63.0.10257/images/common/flags/jp.png', 'https://a.cdn-hotels.com/uswest2/da/assets/s/63.0.10257/images/common/flags/us.png', 'https://a.cdn-hotels.com/uswest2/da/assets/s/63.0.10257/images/common/flags/kr.png', 'https://a.cdn-hotels.com/uswest2/da/assets/s/63.0.10257/images/common/flags/us.png', 'https://a.cdn-hotels.com/uswest2/da/assets/s/63.0.10257/images/common/flags/gb.png', 'https://a.cdn-hotels.com/uswest2/da/assets/s/63.0.10257/images/common/flags/kr.png', 'https://a.cdn-hotels.com/uswest2/da/assets/s/63.0.10257/images/common/flags/us.png', 'https://a.cdn-hotels.com/uswest2/da/assets/s/63.0.10257/images/common/flags/kr.png', 'https://a.cdn-hotels.com/uswest2/da/assets/s/63.0.10257/images/common/flags/jp.png', 'https://a.cdn-hotels.com/uswest2/da/assets/s/63.0.10257/images/common/flags/au.png', 'https://a.cdn-hotels.com/uswest2/da/assets/s/63.0.10257/images/common/flags/hk.png', 'https://a.cdn-hotels.com/uswest2/da/assets/s/63.0.10257/images/common/flags/jp.png', 'https://a.cdn-hotels.com/uswest2/da/assets/s/63.0.10257/images/common/flags/id.png', 'https://a.cdn-hotels.com/uswest2/da/assets/s/63.0.10257/images/common/flags/au.png', 'https://a.cdn-hotels.com/uswest2/da/assets/s/63.0.10257/images/common/flags/us.png', 'https://a.cdn-hotels.com/uswest2/da/assets/s/63.0.10257/images/common/flags/us.png', 'https://a.cdn-hotels.com/uswest2/da/assets/s/63.0.10257/images/common/flags/us.png', 'https://a.cdn-hotels.com/uswest2/da/assets/s/63.0.10257/images/common/flags/jp.png', 'https://a.cdn-hotels.com/uswest2/da/assets/s/63.0.10257/images/common/flags/sg.png', 'https://a.cdn-hotels.com/uswest2/da/assets/s/63.0.10257/images/common/flags/sg.png', 'https://a.cdn-hotels.com/uswest2/da/assets/s/63.0.10257/images/common/flags/nl.png', 'https://a.cdn-hotels.com/uswest2/da/assets/s/63.0.10257/images/common/flags/jp.png', 'https://a.cdn-hotels.com/uswest2/da/assets/s/63.0.10257/images/common/flags/jp.png', 'https://a.cdn-hotels.com/uswest2/da/assets/s/63.0.10257/images/common/flags/jp.png', 'https://a.cdn-hotels.com/uswest2/da/assets/s/63.0.10257/images/common/flags/pl.png', 'https://a.cdn-hotels.com/uswest2/da/assets/s/63.0.10257/images/common/flags/jp.png', 'https://a.cdn-hotels.com/uswest2/da/assets/s/63.0.10257/images/common/flags/id.png', 'https://a.cdn-hotels.com/uswest2/da/assets/s/63.0.10257/images/common/flags/gb.png', 'https://a.cdn-hotels.com/uswest2/da/assets/s/63.0.10257/images/common/flags/sg.png', 'https://a.cdn-hotels.com/uswest2/da/assets/s/63.0.10257/images/common/flags/se.png', 'https://a.cdn-hotels.com/uswest2/da/assets/s/63.0.10257/images/common/flags/se.png', 'https://a.cdn-hotels.com/uswest2/da/assets/s/63.0.10257/images/common/flags/sg.png', 'https://a.cdn-hotels.com/uswest2/da/assets/s/63.0.10257/images/common/flags/jp.png', 'https://a.cdn-hotels.com/uswest2/da/assets/s/63.0.10257/images/common/flags/us.png', 'https://a.cdn-hotels.com/uswest2/da/assets/s/63.0.10257/images/common/flags/sg.png']\n"
     ]
    }
   ],
   "source": [
    "for x in range(pageforloop):\n",
    "    pages = x + 1\n",
    "    urlpg = \"https://www.hotels.com/ho171684-tr-p\"+ str(pages) +\"/?reviewTab=brand-reviews\"\n",
    "    pagex = requests.get(urlpg)\n",
    "    soup = BeautifulSoup(pagex.content, 'html.parser')\n",
    "    \n",
    "    job_elems = soup.find_all('blockquote', class_='expandable-content description')\n",
    "    xx = []\n",
    "\n",
    "    for i in job_elems:\n",
    "        print(i.text.strip())\n",
    "        xx.append(i.text.strip())\n",
    "    \n",
    "    print(\"pages\" + str(pages))\n",
    "    print(xx)\n",
    "    \n",
    "    if pages == 1:\n",
    "        fg = pd.DataFrame(xx,columns=['comment'])\n",
    "    else:\n",
    "        xxxv = pd.DataFrame(xx,columns=['comment'])\n",
    "        fg = fg.append(xxxv)\n",
    "    \n",
    "    \n",
    "    \n",
    "    \n",
    "#     df = df.append(df3x)"
   ]
  },
  {
   "cell_type": "code",
   "execution_count": null,
   "metadata": {},
   "outputs": [],
   "source": [
    "fg.to_csv(r'haha.csv')"
   ]
  },
  {
   "cell_type": "code",
   "execution_count": 33,
   "metadata": {},
   "outputs": [
    {
     "name": "stdout",
     "output_type": "stream",
     "text": [
      "221\n"
     ]
    }
   ],
   "source": [
    "print(len(xx))"
   ]
  },
  {
   "cell_type": "code",
   "execution_count": 66,
   "metadata": {
    "scrolled": true
   },
   "outputs": [
    {
     "ename": "AttributeError",
     "evalue": "'int' object has no attribute 'find'",
     "output_type": "error",
     "traceback": [
      "\u001b[1;31m---------------------------------------------------------------------------\u001b[0m",
      "\u001b[1;31mAttributeError\u001b[0m                            Traceback (most recent call last)",
      "\u001b[1;32m<ipython-input-66-e61dcbba1732>\u001b[0m in \u001b[0;36m<module>\u001b[1;34m\u001b[0m\n\u001b[0;32m     13\u001b[0m     \u001b[0mimage_elems_array\u001b[0m \u001b[1;33m=\u001b[0m \u001b[1;33m[\u001b[0m\u001b[1;33m]\u001b[0m\u001b[1;33m\u001b[0m\u001b[1;33m\u001b[0m\u001b[0m\n\u001b[0;32m     14\u001b[0m     \u001b[1;32mfor\u001b[0m \u001b[0mi\u001b[0m \u001b[1;32min\u001b[0m \u001b[0mrange\u001b[0m\u001b[1;33m(\u001b[0m\u001b[0mlen\u001b[0m\u001b[1;33m(\u001b[0m\u001b[0mimage_elems\u001b[0m\u001b[1;33m)\u001b[0m\u001b[1;33m)\u001b[0m\u001b[1;33m:\u001b[0m\u001b[1;33m\u001b[0m\u001b[1;33m\u001b[0m\u001b[0m\n\u001b[1;32m---> 15\u001b[1;33m         \u001b[0mlink\u001b[0m \u001b[1;33m=\u001b[0m \u001b[0mi\u001b[0m\u001b[1;33m.\u001b[0m\u001b[0mfind\u001b[0m\u001b[1;33m(\u001b[0m\u001b[1;34m'img'\u001b[0m\u001b[1;33m)\u001b[0m\u001b[1;33m[\u001b[0m\u001b[1;34m'src'\u001b[0m\u001b[1;33m]\u001b[0m\u001b[1;33m\u001b[0m\u001b[1;33m\u001b[0m\u001b[0m\n\u001b[0m\u001b[0;32m     16\u001b[0m         \u001b[0mrawflag\u001b[0m  \u001b[1;33m=\u001b[0m \u001b[0mstr\u001b[0m\u001b[1;33m(\u001b[0m\u001b[0mlink\u001b[0m\u001b[1;33m)\u001b[0m\u001b[1;33m.\u001b[0m\u001b[0mreplace\u001b[0m\u001b[1;33m(\u001b[0m\u001b[1;34m'https://a.cdn-hotels.com/uswest2/da/assets/s/63.0.10257/images/common/flags/'\u001b[0m\u001b[1;33m,\u001b[0m\u001b[1;34m''\u001b[0m\u001b[1;33m)\u001b[0m\u001b[1;33m\u001b[0m\u001b[1;33m\u001b[0m\u001b[0m\n\u001b[0;32m     17\u001b[0m         \u001b[0mflag\u001b[0m \u001b[1;33m=\u001b[0m \u001b[0mrawflag\u001b[0m\u001b[1;33m.\u001b[0m\u001b[0mreplace\u001b[0m\u001b[1;33m(\u001b[0m\u001b[1;34m'.png'\u001b[0m\u001b[1;33m,\u001b[0m\u001b[1;34m''\u001b[0m\u001b[1;33m)\u001b[0m\u001b[1;33m\u001b[0m\u001b[1;33m\u001b[0m\u001b[0m\n",
      "\u001b[1;31mAttributeError\u001b[0m: 'int' object has no attribute 'find'"
     ]
    }
   ],
   "source": [
    "xx =[]\n",
    "xx.append([])\n",
    "for x in range(pageforloop):\n",
    "    pages = x + 1\n",
    "    urlpg = \"https://www.hotels.com/ho171684-tr-p\"+ str(pages) +\"/?reviewTab=brand-reviews\"\n",
    "    pagex = requests.get(urlpg)\n",
    "    soup = BeautifulSoup(pagex.content, 'html.parser')\n",
    "    \n",
    "    \n",
    "    \n",
    "    #flag\n",
    "    image_elems = soup.find_all('div', class_='meta')\n",
    "    image_elems_array = []\n",
    "    for i in image_elems:\n",
    "        link = i.find('img')['src']\n",
    "        rawflag  = str(link).replace('https://a.cdn-hotels.com/uswest2/da/assets/s/63.0.10257/images/common/flags/','')\n",
    "        flag = rawflag.replace('.png','')\n",
    "        xx[i].append(str(flag)\n",
    "#         image_elems_array.append(flag)\n",
    "\n",
    "        \n",
    "    \n",
    "        \n",
    "    #comment\n",
    "    comment_elems = soup.find_all('blockquote', class_='expandable-content description')\n",
    "    comment_elems_array =[]\n",
    "    for i in comment_elems:\n",
    "        xx[i].append(i.text.strip())\n",
    "#         comment_elems_array.append(i.text.strip())\n",
    "    \n",
    "    #rating-badge\n",
    "    ratingbadge_elems = soup.find_all('span', class_='rating-badge')\n",
    "    ratingbadge_elems_array =[]\n",
    "    for i in ratingbadge_elems:\n",
    "        xx[i].append(i.text.strip())\n",
    "#         ratingbadge_elems_array.append(i.text.strip())\n",
    "    \n",
    "    #ratingscore\n",
    "    ratingscore_elems = soup.find_all('span', class_='rating-score')\n",
    "    ratingscore_elems_array =[]\n",
    "    for i in ratingscore_elems:\n",
    "        xx[i].append(i.text.strip())\n",
    "#         ratingscore_elems_array.append(i.text.strip())\n",
    "    \n",
    "    \n",
    "    \n",
    "    \n",
    "print(xx)"
   ]
  },
  {
   "cell_type": "code",
   "execution_count": 57,
   "metadata": {},
   "outputs": [],
   "source": [
    "po =[['sd','sdd'],['HAHA','HEHE']]\n",
    "fss = pd.DataFrame(po, columns=['sd','sdd'])"
   ]
  },
  {
   "cell_type": "code",
   "execution_count": 60,
   "metadata": {},
   "outputs": [
    {
     "name": "stdout",
     "output_type": "stream",
     "text": [
      "[['aa1', 'aa2']]\n"
     ]
    }
   ],
   "source": [
    "print(arr)"
   ]
  },
  {
   "cell_type": "code",
   "execution_count": 9,
   "metadata": {},
   "outputs": [],
   "source": []
  },
  {
   "cell_type": "code",
   "execution_count": 129,
   "metadata": {},
   "outputs": [],
   "source": [
    "xx =[]\n",
    "image_elems_array = []\n",
    "comment_elems_array =[]\n",
    "ratingbadge_elems_array =[]\n",
    "ratingscore_elems_array =[]\n",
    "\n",
    "\n",
    "for x in range(pageforloop):\n",
    "    pages = x + 1\n",
    "    urlpg = \"https://www.hotels.com/ho171684-tr-p\"+ str(pages) +\"/?reviewTab=brand-reviews\"\n",
    "    pagex = requests.get(urlpg)\n",
    "    soup = BeautifulSoup(pagex.content, 'html.parser')\n",
    "    \n",
    "    \n",
    "    \n",
    "    #flag\n",
    "    image_elems = soup.find_all('div', class_='meta')\n",
    "    for i in image_elems:\n",
    "        link = i.find('img')['src']\n",
    "        rawflag  = str(link).replace('https://a.cdn-hotels.com/uswest2/da/assets/s/63.0.10257/images/common/flags/','')\n",
    "        flag = rawflag.replace('.png','')\n",
    "        image_elems_array.append(str(flag))\n",
    "    \n",
    "    #comment\n",
    "    comment_elems = soup.find_all('blockquote', class_='expandable-content description')\n",
    "    for i in comment_elems:\n",
    "        comment_elems_array.append(i.text.strip())\n",
    "    \n",
    "    #rating-badge\n",
    "    ratingbadge_elems = soup.find_all('span', class_='rating-badge')\n",
    "    for i in ratingbadge_elems:\n",
    "         ratingbadge_elems_array.append(i.text.strip())\n",
    "    \n",
    "#     #rating-score\n",
    "#     ratingscore_elems = soup.find_all('span', class_='rating-score')\n",
    "#     for i in ratingscore_elems:\n",
    "#          ratingscore_elems_array.append(i.text.strip())\n",
    "            \n",
    "    #rating-score\n",
    "    ratingscore_elems = soup.find_all('span', class_='rating-score')\n",
    "    for i in range(len(ratingscore_elems) - 1):\n",
    "         ratingscore_elems_array.append(ratingscore_elems[i].text.strip())\n",
    "\n",
    "\n",
    "\n",
    "    \n"
   ]
  },
  {
   "cell_type": "code",
   "execution_count": 130,
   "metadata": {},
   "outputs": [],
   "source": [
    "i = 0\n",
    "while i < len(image_elems_array):\n",
    "    xx.append([])\n",
    "    xx[i].append(image_elems_array[i])\n",
    "    xx[i].append(comment_elems_array[i])\n",
    "    xx[i].append(ratingbadge_elems_array[i])\n",
    "    xx[i].append(ratingscore_elems_array[i]) \n",
    "    i+=1\n",
    "\n",
    " "
   ]
  },
  {
   "cell_type": "code",
   "execution_count": 135,
   "metadata": {},
   "outputs": [],
   "source": [
    "newdf = pd.DataFrame(xx, columns=['country','comments','ratingbadge','ratingscore'])\n",
    "newdf\n",
    "newdf.to_csv(r'coba.csv')"
   ]
  },
  {
   "cell_type": "code",
   "execution_count": 85,
   "metadata": {},
   "outputs": [],
   "source": [
    "arr = []\n",
    "for i in range(10):\n",
    "    arr.append([])\n",
    "    for j in range(5):\n",
    "        arr[i].append(i*j)"
   ]
  },
  {
   "cell_type": "code",
   "execution_count": 124,
   "metadata": {},
   "outputs": [
    {
     "name": "stdout",
     "output_type": "stream",
     "text": [
      "[['hallooo'], ['hallooo']]\n"
     ]
    }
   ],
   "source": [
    "cc = ['aaa','addd']\n",
    "\n",
    "# xx[0].append('aaa')\n",
    "# xx[0].append('aaa')\n",
    "xx =[]\n",
    "i = 0\n",
    "while i < len(cc):\n",
    "    xx.append([])\n",
    "    xx[i].append('hallooo')\n",
    "    i += 1\n",
    "print(xx)"
   ]
  },
  {
   "cell_type": "code",
   "execution_count": 138,
   "metadata": {},
   "outputs": [
    {
     "name": "stdout",
     "output_type": "stream",
     "text": [
      "Melia Purosani Hotel\n"
     ]
    }
   ],
   "source": [
    "page = requests.get(url)\n",
    "soup = BeautifulSoup(page.content, 'html.parser')\n",
    "num = soup.find('span', class_='number-of-reviews')\n",
    "cc =num.text.strip()\n",
    "\n",
    "fgd = soup.find_all('div', class_='vcard')\n",
    "for i in fgd:\n",
    "    print(i.find('h1').text.strip())"
   ]
  }
 ],
 "metadata": {
  "kernelspec": {
   "display_name": "Python 3",
   "language": "python",
   "name": "python3"
  },
  "language_info": {
   "codemirror_mode": {
    "name": "ipython",
    "version": 3
   },
   "file_extension": ".py",
   "mimetype": "text/x-python",
   "name": "python",
   "nbconvert_exporter": "python",
   "pygments_lexer": "ipython3",
   "version": "3.7.4"
  }
 },
 "nbformat": 4,
 "nbformat_minor": 2
}
